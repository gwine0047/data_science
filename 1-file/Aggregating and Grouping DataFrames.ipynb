{
 "cells": [
  {
   "cell_type": "code",
   "execution_count": 3,
   "id": "c81ed4b2",
   "metadata": {},
   "outputs": [
    {
     "data": {
      "text/html": [
       "<div>\n",
       "<style scoped>\n",
       "    .dataframe tbody tr th:only-of-type {\n",
       "        vertical-align: middle;\n",
       "    }\n",
       "\n",
       "    .dataframe tbody tr th {\n",
       "        vertical-align: top;\n",
       "    }\n",
       "\n",
       "    .dataframe thead th {\n",
       "        text-align: right;\n",
       "    }\n",
       "</style>\n",
       "<table border=\"1\" class=\"dataframe\">\n",
       "  <thead>\n",
       "    <tr style=\"text-align: right;\">\n",
       "      <th></th>\n",
       "      <th>date</th>\n",
       "      <th>city</th>\n",
       "      <th>temperature</th>\n",
       "      <th>humidity</th>\n",
       "    </tr>\n",
       "  </thead>\n",
       "  <tbody>\n",
       "    <tr>\n",
       "      <th>0</th>\n",
       "      <td>01/01/2022</td>\n",
       "      <td>lahore</td>\n",
       "      <td>8</td>\n",
       "      <td>60</td>\n",
       "    </tr>\n",
       "    <tr>\n",
       "      <th>1</th>\n",
       "      <td>02/01/2022</td>\n",
       "      <td>lahore</td>\n",
       "      <td>10</td>\n",
       "      <td>58</td>\n",
       "    </tr>\n",
       "    <tr>\n",
       "      <th>2</th>\n",
       "      <td>03/01/2022</td>\n",
       "      <td>lahore</td>\n",
       "      <td>5</td>\n",
       "      <td>51</td>\n",
       "    </tr>\n",
       "    <tr>\n",
       "      <th>3</th>\n",
       "      <td>04/01/2022</td>\n",
       "      <td>lahore</td>\n",
       "      <td>6</td>\n",
       "      <td>49</td>\n",
       "    </tr>\n",
       "    <tr>\n",
       "      <th>4</th>\n",
       "      <td>05/01/2022</td>\n",
       "      <td>lahore</td>\n",
       "      <td>12</td>\n",
       "      <td>54</td>\n",
       "    </tr>\n",
       "  </tbody>\n",
       "</table>\n",
       "</div>"
      ],
      "text/plain": [
       "         date    city  temperature  humidity\n",
       "0  01/01/2022  lahore            8        60\n",
       "1  02/01/2022  lahore           10        58\n",
       "2  03/01/2022  lahore            5        51\n",
       "3  04/01/2022  lahore            6        49\n",
       "4  05/01/2022  lahore           12        54"
      ]
     },
     "execution_count": 3,
     "metadata": {},
     "output_type": "execute_result"
    }
   ],
   "source": [
    "import pandas as pd\n",
    "df = pd.read_csv('datasets/groupbydata2.csv')\n",
    "df.head()"
   ]
  },
  {
   "cell_type": "code",
   "execution_count": 4,
   "id": "60f916de",
   "metadata": {},
   "outputs": [
    {
     "data": {
      "text/plain": [
       "date           01/01/2022\n",
       "city              karachi\n",
       "temperature            -7\n",
       "humidity               49\n",
       "dtype: object"
      ]
     },
     "execution_count": 4,
     "metadata": {},
     "output_type": "execute_result"
    }
   ],
   "source": [
    "df.min()"
   ]
  },
  {
   "cell_type": "code",
   "execution_count": 8,
   "id": "1235d666",
   "metadata": {},
   "outputs": [
    {
     "data": {
      "text/plain": [
       "date           15\n",
       "city           15\n",
       "temperature    15\n",
       "humidity       15\n",
       "dtype: int64"
      ]
     },
     "execution_count": 8,
     "metadata": {},
     "output_type": "execute_result"
    }
   ],
   "source": [
    "df.count()"
   ]
  },
  {
   "cell_type": "code",
   "execution_count": 11,
   "id": "2ed157ff",
   "metadata": {},
   "outputs": [
    {
     "data": {
      "text/plain": [
       "temperature     8.0\n",
       "humidity       68.0\n",
       "dtype: float64"
      ]
     },
     "execution_count": 11,
     "metadata": {},
     "output_type": "execute_result"
    }
   ],
   "source": [
    "# this works only on numerical values\n",
    "df.median(numeric_only=True)"
   ]
  },
  {
   "cell_type": "code",
   "execution_count": 14,
   "id": "07ea1b66",
   "metadata": {},
   "outputs": [
    {
     "data": {
      "text/html": [
       "<div>\n",
       "<style scoped>\n",
       "    .dataframe tbody tr th:only-of-type {\n",
       "        vertical-align: middle;\n",
       "    }\n",
       "\n",
       "    .dataframe tbody tr th {\n",
       "        vertical-align: top;\n",
       "    }\n",
       "\n",
       "    .dataframe thead th {\n",
       "        text-align: right;\n",
       "    }\n",
       "</style>\n",
       "<table border=\"1\" class=\"dataframe\">\n",
       "  <thead>\n",
       "    <tr style=\"text-align: right;\">\n",
       "      <th></th>\n",
       "      <th>date</th>\n",
       "      <th>city</th>\n",
       "      <th>temperature</th>\n",
       "      <th>humidity</th>\n",
       "    </tr>\n",
       "  </thead>\n",
       "  <tbody>\n",
       "    <tr>\n",
       "      <th>min</th>\n",
       "      <td>01/01/2022</td>\n",
       "      <td>karachi</td>\n",
       "      <td>-7</td>\n",
       "      <td>49</td>\n",
       "    </tr>\n",
       "    <tr>\n",
       "      <th>max</th>\n",
       "      <td>05/01/2022</td>\n",
       "      <td>murree</td>\n",
       "      <td>18</td>\n",
       "      <td>78</td>\n",
       "    </tr>\n",
       "    <tr>\n",
       "      <th>count</th>\n",
       "      <td>15</td>\n",
       "      <td>15</td>\n",
       "      <td>15</td>\n",
       "      <td>15</td>\n",
       "    </tr>\n",
       "  </tbody>\n",
       "</table>\n",
       "</div>"
      ],
      "text/plain": [
       "             date     city  temperature  humidity\n",
       "min    01/01/2022  karachi           -7        49\n",
       "max    05/01/2022   murree           18        78\n",
       "count          15       15           15        15"
      ]
     },
     "execution_count": 14,
     "metadata": {},
     "output_type": "execute_result"
    }
   ],
   "source": [
    "df.agg(['min', 'max', 'count'])"
   ]
  },
  {
   "cell_type": "code",
   "execution_count": null,
   "id": "522bde61",
   "metadata": {},
   "outputs": [],
   "source": []
  },
  {
   "cell_type": "code",
   "execution_count": 17,
   "id": "fc5a0765",
   "metadata": {},
   "outputs": [
    {
     "data": {
      "text/html": [
       "<div>\n",
       "<style scoped>\n",
       "    .dataframe tbody tr th:only-of-type {\n",
       "        vertical-align: middle;\n",
       "    }\n",
       "\n",
       "    .dataframe tbody tr th {\n",
       "        vertical-align: top;\n",
       "    }\n",
       "\n",
       "    .dataframe thead th {\n",
       "        text-align: right;\n",
       "    }\n",
       "</style>\n",
       "<table border=\"1\" class=\"dataframe\">\n",
       "  <thead>\n",
       "    <tr style=\"text-align: right;\">\n",
       "      <th></th>\n",
       "      <th>temperature</th>\n",
       "      <th>humidity</th>\n",
       "    </tr>\n",
       "  </thead>\n",
       "  <tbody>\n",
       "    <tr>\n",
       "      <th>count</th>\n",
       "      <td>15.000000</td>\n",
       "      <td>15.000000</td>\n",
       "    </tr>\n",
       "    <tr>\n",
       "      <th>mean</th>\n",
       "      <td>6.133333</td>\n",
       "      <td>64.933333</td>\n",
       "    </tr>\n",
       "    <tr>\n",
       "      <th>std</th>\n",
       "      <td>8.253715</td>\n",
       "      <td>9.153194</td>\n",
       "    </tr>\n",
       "    <tr>\n",
       "      <th>min</th>\n",
       "      <td>-7.000000</td>\n",
       "      <td>49.000000</td>\n",
       "    </tr>\n",
       "    <tr>\n",
       "      <th>25%</th>\n",
       "      <td>-2.000000</td>\n",
       "      <td>59.000000</td>\n",
       "    </tr>\n",
       "    <tr>\n",
       "      <th>50%</th>\n",
       "      <td>8.000000</td>\n",
       "      <td>68.000000</td>\n",
       "    </tr>\n",
       "    <tr>\n",
       "      <th>75%</th>\n",
       "      <td>12.000000</td>\n",
       "      <td>71.500000</td>\n",
       "    </tr>\n",
       "    <tr>\n",
       "      <th>max</th>\n",
       "      <td>18.000000</td>\n",
       "      <td>78.000000</td>\n",
       "    </tr>\n",
       "  </tbody>\n",
       "</table>\n",
       "</div>"
      ],
      "text/plain": [
       "       temperature   humidity\n",
       "count    15.000000  15.000000\n",
       "mean      6.133333  64.933333\n",
       "std       8.253715   9.153194\n",
       "min      -7.000000  49.000000\n",
       "25%      -2.000000  59.000000\n",
       "50%       8.000000  68.000000\n",
       "75%      12.000000  71.500000\n",
       "max      18.000000  78.000000"
      ]
     },
     "execution_count": 17,
     "metadata": {},
     "output_type": "execute_result"
    }
   ],
   "source": [
    "# > We can call the `describe()` method on the dataframe to get descriptive statistical measures on all its numeric columns.\n",
    "df.describe()"
   ]
  },
  {
   "cell_type": "code",
   "execution_count": 18,
   "id": "dfd7b9fd",
   "metadata": {},
   "outputs": [],
   "source": [
    "### b. Applying a Built-in Aggregation Function on a Series Object"
   ]
  },
  {
   "cell_type": "code",
   "execution_count": 19,
   "id": "6e15e3bc",
   "metadata": {},
   "outputs": [
    {
     "data": {
      "text/plain": [
       "64.93333333333334"
      ]
     },
     "execution_count": 19,
     "metadata": {},
     "output_type": "execute_result"
    }
   ],
   "source": [
    "df['humidity'].mean()"
   ]
  },
  {
   "cell_type": "code",
   "execution_count": 20,
   "id": "80d586fe",
   "metadata": {},
   "outputs": [
    {
     "data": {
      "text/plain": [
       "15"
      ]
     },
     "execution_count": 20,
     "metadata": {},
     "output_type": "execute_result"
    }
   ],
   "source": [
    "df['humidity'].count()"
   ]
  },
  {
   "cell_type": "code",
   "execution_count": 22,
   "id": "8d59e4f1",
   "metadata": {},
   "outputs": [
    {
     "data": {
      "text/plain": [
       "49"
      ]
     },
     "execution_count": 22,
     "metadata": {},
     "output_type": "execute_result"
    }
   ],
   "source": [
    "df['humidity'].min()"
   ]
  },
  {
   "cell_type": "code",
   "execution_count": 23,
   "id": "30e63acc",
   "metadata": {},
   "outputs": [
    {
     "data": {
      "text/plain": [
       "min       49.0\n",
       "max       78.0\n",
       "count     15.0\n",
       "median    68.0\n",
       "Name: humidity, dtype: float64"
      ]
     },
     "execution_count": 23,
     "metadata": {},
     "output_type": "execute_result"
    }
   ],
   "source": [
    "df['humidity'].agg(['min', 'max', 'count', 'median'])"
   ]
  },
  {
   "cell_type": "code",
   "execution_count": null,
   "id": "c0a25bc2",
   "metadata": {},
   "outputs": [],
   "source": []
  },
  {
   "cell_type": "code",
   "execution_count": 24,
   "id": "de3378f8",
   "metadata": {},
   "outputs": [
    {
     "data": {
      "text/plain": [
       "count    15.000000\n",
       "mean     64.933333\n",
       "std       9.153194\n",
       "min      49.000000\n",
       "25%      59.000000\n",
       "50%      68.000000\n",
       "75%      71.500000\n",
       "max      78.000000\n",
       "Name: humidity, dtype: float64"
      ]
     },
     "execution_count": 24,
     "metadata": {},
     "output_type": "execute_result"
    }
   ],
   "source": [
    "df['humidity'].describe()"
   ]
  },
  {
   "cell_type": "code",
   "execution_count": 25,
   "id": "c40dded6",
   "metadata": {},
   "outputs": [
    {
     "data": {
      "text/plain": [
       "0     60\n",
       "1     58\n",
       "2     51\n",
       "3     49\n",
       "4     54\n",
       "5     74\n",
       "6     71\n",
       "7     78\n",
       "8     76\n",
       "9     70\n",
       "10    61\n",
       "11    68\n",
       "12    69\n",
       "13    63\n",
       "14    72\n",
       "Name: humidity, dtype: int64"
      ]
     },
     "execution_count": 25,
     "metadata": {},
     "output_type": "execute_result"
    }
   ],
   "source": [
    "df.humidity"
   ]
  },
  {
   "cell_type": "code",
   "execution_count": 29,
   "id": "396fbfc1",
   "metadata": {},
   "outputs": [
    {
     "data": {
      "text/plain": [
       "0     46.4\n",
       "1     50.0\n",
       "2     41.0\n",
       "3     42.8\n",
       "4     53.6\n",
       "5     64.4\n",
       "6     50.0\n",
       "7     53.6\n",
       "8     59.0\n",
       "9     60.8\n",
       "10    23.0\n",
       "11    26.6\n",
       "12    24.8\n",
       "13    30.2\n",
       "14    19.4\n",
       "Name: temperature, dtype: float64"
      ]
     },
     "execution_count": 29,
     "metadata": {},
     "output_type": "execute_result"
    }
   ],
   "source": [
    "def celcius(temp):\n",
    "    return temp * 9/5 + 32\n",
    "\n",
    "df.temperature.apply(celcius)"
   ]
  },
  {
   "cell_type": "code",
   "execution_count": 30,
   "id": "ca6126aa",
   "metadata": {},
   "outputs": [
    {
     "data": {
      "text/plain": [
       "0     46.4\n",
       "1     50.0\n",
       "2     41.0\n",
       "3     42.8\n",
       "4     53.6\n",
       "5     64.4\n",
       "6     50.0\n",
       "7     53.6\n",
       "8     59.0\n",
       "9     60.8\n",
       "10    23.0\n",
       "11    26.6\n",
       "12    24.8\n",
       "13    30.2\n",
       "14    19.4\n",
       "Name: temperature, dtype: float64"
      ]
     },
     "execution_count": 30,
     "metadata": {},
     "output_type": "execute_result"
    }
   ],
   "source": [
    "df.temperature.apply(lambda temp: temp * 9/5 + 32)"
   ]
  },
  {
   "cell_type": "code",
   "execution_count": 31,
   "id": "d68d1eca",
   "metadata": {},
   "outputs": [],
   "source": [
    "# How to Compute the Minimum Temperature of Each City?\n",
    "import pandas as pd"
   ]
  },
  {
   "cell_type": "code",
   "execution_count": 32,
   "id": "39b22bc8",
   "metadata": {},
   "outputs": [
    {
     "data": {
      "text/html": [
       "<div>\n",
       "<style scoped>\n",
       "    .dataframe tbody tr th:only-of-type {\n",
       "        vertical-align: middle;\n",
       "    }\n",
       "\n",
       "    .dataframe tbody tr th {\n",
       "        vertical-align: top;\n",
       "    }\n",
       "\n",
       "    .dataframe thead th {\n",
       "        text-align: right;\n",
       "    }\n",
       "</style>\n",
       "<table border=\"1\" class=\"dataframe\">\n",
       "  <thead>\n",
       "    <tr style=\"text-align: right;\">\n",
       "      <th></th>\n",
       "      <th>date</th>\n",
       "      <th>city</th>\n",
       "      <th>temperature</th>\n",
       "    </tr>\n",
       "  </thead>\n",
       "  <tbody>\n",
       "    <tr>\n",
       "      <th>0</th>\n",
       "      <td>01/01/2022</td>\n",
       "      <td>lahore</td>\n",
       "      <td>8</td>\n",
       "    </tr>\n",
       "    <tr>\n",
       "      <th>1</th>\n",
       "      <td>02/01/2022</td>\n",
       "      <td>lahore</td>\n",
       "      <td>10</td>\n",
       "    </tr>\n",
       "    <tr>\n",
       "      <th>2</th>\n",
       "      <td>03/01/2022</td>\n",
       "      <td>lahore</td>\n",
       "      <td>5</td>\n",
       "    </tr>\n",
       "    <tr>\n",
       "      <th>3</th>\n",
       "      <td>04/01/2022</td>\n",
       "      <td>lahore</td>\n",
       "      <td>6</td>\n",
       "    </tr>\n",
       "    <tr>\n",
       "      <th>4</th>\n",
       "      <td>05/01/2022</td>\n",
       "      <td>lahore</td>\n",
       "      <td>12</td>\n",
       "    </tr>\n",
       "    <tr>\n",
       "      <th>5</th>\n",
       "      <td>01/01/2022</td>\n",
       "      <td>karachi</td>\n",
       "      <td>18</td>\n",
       "    </tr>\n",
       "    <tr>\n",
       "      <th>6</th>\n",
       "      <td>02/01/2022</td>\n",
       "      <td>karachi</td>\n",
       "      <td>10</td>\n",
       "    </tr>\n",
       "    <tr>\n",
       "      <th>7</th>\n",
       "      <td>03/01/2022</td>\n",
       "      <td>karachi</td>\n",
       "      <td>12</td>\n",
       "    </tr>\n",
       "    <tr>\n",
       "      <th>8</th>\n",
       "      <td>04/01/2022</td>\n",
       "      <td>karachi</td>\n",
       "      <td>15</td>\n",
       "    </tr>\n",
       "    <tr>\n",
       "      <th>9</th>\n",
       "      <td>05/01/2022</td>\n",
       "      <td>karachi</td>\n",
       "      <td>16</td>\n",
       "    </tr>\n",
       "    <tr>\n",
       "      <th>10</th>\n",
       "      <td>01/01/2022</td>\n",
       "      <td>murree</td>\n",
       "      <td>-5</td>\n",
       "    </tr>\n",
       "    <tr>\n",
       "      <th>11</th>\n",
       "      <td>02/01/2022</td>\n",
       "      <td>murree</td>\n",
       "      <td>-3</td>\n",
       "    </tr>\n",
       "    <tr>\n",
       "      <th>12</th>\n",
       "      <td>03/01/2022</td>\n",
       "      <td>murree</td>\n",
       "      <td>-4</td>\n",
       "    </tr>\n",
       "    <tr>\n",
       "      <th>13</th>\n",
       "      <td>04/01/2022</td>\n",
       "      <td>murree</td>\n",
       "      <td>-1</td>\n",
       "    </tr>\n",
       "    <tr>\n",
       "      <th>14</th>\n",
       "      <td>05/01/2022</td>\n",
       "      <td>murree</td>\n",
       "      <td>-7</td>\n",
       "    </tr>\n",
       "  </tbody>\n",
       "</table>\n",
       "</div>"
      ],
      "text/plain": [
       "          date     city  temperature\n",
       "0   01/01/2022   lahore            8\n",
       "1   02/01/2022   lahore           10\n",
       "2   03/01/2022   lahore            5\n",
       "3   04/01/2022   lahore            6\n",
       "4   05/01/2022   lahore           12\n",
       "5   01/01/2022  karachi           18\n",
       "6   02/01/2022  karachi           10\n",
       "7   03/01/2022  karachi           12\n",
       "8   04/01/2022  karachi           15\n",
       "9   05/01/2022  karachi           16\n",
       "10  01/01/2022   murree           -5\n",
       "11  02/01/2022   murree           -3\n",
       "12  03/01/2022   murree           -4\n",
       "13  04/01/2022   murree           -1\n",
       "14  05/01/2022   murree           -7"
      ]
     },
     "execution_count": 32,
     "metadata": {},
     "output_type": "execute_result"
    }
   ],
   "source": [
    "df = pd.read_csv(\"datasets/groupbydata1.csv\")\n",
    "df"
   ]
  },
  {
   "cell_type": "code",
   "execution_count": null,
   "id": "da45b526",
   "metadata": {},
   "outputs": [],
   "source": []
  },
  {
   "cell_type": "code",
   "execution_count": 33,
   "id": "0e3bd804",
   "metadata": {},
   "outputs": [],
   "source": [
    "### a. Splitting the Dataframe\n"
   ]
  },
  {
   "cell_type": "code",
   "execution_count": 34,
   "id": "45fa9eeb",
   "metadata": {},
   "outputs": [
    {
     "data": {
      "text/html": [
       "<div>\n",
       "<style scoped>\n",
       "    .dataframe tbody tr th:only-of-type {\n",
       "        vertical-align: middle;\n",
       "    }\n",
       "\n",
       "    .dataframe tbody tr th {\n",
       "        vertical-align: top;\n",
       "    }\n",
       "\n",
       "    .dataframe thead th {\n",
       "        text-align: right;\n",
       "    }\n",
       "</style>\n",
       "<table border=\"1\" class=\"dataframe\">\n",
       "  <thead>\n",
       "    <tr style=\"text-align: right;\">\n",
       "      <th></th>\n",
       "      <th>date</th>\n",
       "      <th>city</th>\n",
       "      <th>temperature</th>\n",
       "    </tr>\n",
       "  </thead>\n",
       "  <tbody>\n",
       "    <tr>\n",
       "      <th>10</th>\n",
       "      <td>01/01/2022</td>\n",
       "      <td>murree</td>\n",
       "      <td>-5</td>\n",
       "    </tr>\n",
       "    <tr>\n",
       "      <th>11</th>\n",
       "      <td>02/01/2022</td>\n",
       "      <td>murree</td>\n",
       "      <td>-3</td>\n",
       "    </tr>\n",
       "    <tr>\n",
       "      <th>12</th>\n",
       "      <td>03/01/2022</td>\n",
       "      <td>murree</td>\n",
       "      <td>-4</td>\n",
       "    </tr>\n",
       "    <tr>\n",
       "      <th>13</th>\n",
       "      <td>04/01/2022</td>\n",
       "      <td>murree</td>\n",
       "      <td>-1</td>\n",
       "    </tr>\n",
       "    <tr>\n",
       "      <th>14</th>\n",
       "      <td>05/01/2022</td>\n",
       "      <td>murree</td>\n",
       "      <td>-7</td>\n",
       "    </tr>\n",
       "  </tbody>\n",
       "</table>\n",
       "</div>"
      ],
      "text/plain": [
       "          date    city  temperature\n",
       "10  01/01/2022  murree           -5\n",
       "11  02/01/2022  murree           -3\n",
       "12  03/01/2022  murree           -4\n",
       "13  04/01/2022  murree           -1\n",
       "14  05/01/2022  murree           -7"
      ]
     },
     "execution_count": 34,
     "metadata": {},
     "output_type": "execute_result"
    }
   ],
   "source": [
    "df[df['city'] == 'murree']"
   ]
  },
  {
   "cell_type": "code",
   "execution_count": 35,
   "id": "7a6350a7",
   "metadata": {},
   "outputs": [
    {
     "data": {
      "text/html": [
       "<div>\n",
       "<style scoped>\n",
       "    .dataframe tbody tr th:only-of-type {\n",
       "        vertical-align: middle;\n",
       "    }\n",
       "\n",
       "    .dataframe tbody tr th {\n",
       "        vertical-align: top;\n",
       "    }\n",
       "\n",
       "    .dataframe thead th {\n",
       "        text-align: right;\n",
       "    }\n",
       "</style>\n",
       "<table border=\"1\" class=\"dataframe\">\n",
       "  <thead>\n",
       "    <tr style=\"text-align: right;\">\n",
       "      <th></th>\n",
       "      <th>date</th>\n",
       "      <th>city</th>\n",
       "      <th>temperature</th>\n",
       "    </tr>\n",
       "  </thead>\n",
       "  <tbody>\n",
       "    <tr>\n",
       "      <th>5</th>\n",
       "      <td>01/01/2022</td>\n",
       "      <td>karachi</td>\n",
       "      <td>18</td>\n",
       "    </tr>\n",
       "    <tr>\n",
       "      <th>6</th>\n",
       "      <td>02/01/2022</td>\n",
       "      <td>karachi</td>\n",
       "      <td>10</td>\n",
       "    </tr>\n",
       "    <tr>\n",
       "      <th>7</th>\n",
       "      <td>03/01/2022</td>\n",
       "      <td>karachi</td>\n",
       "      <td>12</td>\n",
       "    </tr>\n",
       "    <tr>\n",
       "      <th>8</th>\n",
       "      <td>04/01/2022</td>\n",
       "      <td>karachi</td>\n",
       "      <td>15</td>\n",
       "    </tr>\n",
       "    <tr>\n",
       "      <th>9</th>\n",
       "      <td>05/01/2022</td>\n",
       "      <td>karachi</td>\n",
       "      <td>16</td>\n",
       "    </tr>\n",
       "  </tbody>\n",
       "</table>\n",
       "</div>"
      ],
      "text/plain": [
       "         date     city  temperature\n",
       "5  01/01/2022  karachi           18\n",
       "6  02/01/2022  karachi           10\n",
       "7  03/01/2022  karachi           12\n",
       "8  04/01/2022  karachi           15\n",
       "9  05/01/2022  karachi           16"
      ]
     },
     "execution_count": 35,
     "metadata": {},
     "output_type": "execute_result"
    }
   ],
   "source": [
    "df.loc[df.city == 'karachi', :]"
   ]
  },
  {
   "cell_type": "code",
   "execution_count": 39,
   "id": "405db1c3",
   "metadata": {},
   "outputs": [],
   "source": [
    "city_1 = df.loc[df.city == 'karachi', :].temperature.min()\n",
    "city_2 = df.loc[df.city == 'murree', :].temperature.min()\n",
    "city_3 = df.loc[df.city == 'lahore', :].temperature.min()\n"
   ]
  },
  {
   "cell_type": "code",
   "execution_count": 44,
   "id": "fceddc4b",
   "metadata": {},
   "outputs": [
    {
     "data": {
      "text/plain": [
       "kar_min    10\n",
       "mur_min    -7\n",
       "lah_min     5\n",
       "Name: city_minimum, dtype: int64"
      ]
     },
     "execution_count": 44,
     "metadata": {},
     "output_type": "execute_result"
    }
   ],
   "source": [
    "###Combining the cities\n",
    "\n",
    "city = pd.Series(data=[city_1, city_2, city_3], index=['kar_min', 'mur_min', 'lah_min'])\n",
    "city.name = 'city_minimum'\n",
    "city\n"
   ]
  },
  {
   "cell_type": "code",
   "execution_count": null,
   "id": "636341a1",
   "metadata": {},
   "outputs": [],
   "source": []
  },
  {
   "cell_type": "code",
   "execution_count": 45,
   "id": "fab67d41",
   "metadata": {},
   "outputs": [],
   "source": [
    "# How to Compute the Minimum Temperature of Each City?"
   ]
  },
  {
   "cell_type": "code",
   "execution_count": 47,
   "id": "db699198",
   "metadata": {},
   "outputs": [
    {
     "data": {
      "text/html": [
       "<div>\n",
       "<style scoped>\n",
       "    .dataframe tbody tr th:only-of-type {\n",
       "        vertical-align: middle;\n",
       "    }\n",
       "\n",
       "    .dataframe tbody tr th {\n",
       "        vertical-align: top;\n",
       "    }\n",
       "\n",
       "    .dataframe thead th {\n",
       "        text-align: right;\n",
       "    }\n",
       "</style>\n",
       "<table border=\"1\" class=\"dataframe\">\n",
       "  <thead>\n",
       "    <tr style=\"text-align: right;\">\n",
       "      <th></th>\n",
       "      <th>date</th>\n",
       "      <th>city</th>\n",
       "      <th>temperature</th>\n",
       "    </tr>\n",
       "  </thead>\n",
       "  <tbody>\n",
       "    <tr>\n",
       "      <th>0</th>\n",
       "      <td>01/01/2022</td>\n",
       "      <td>lahore</td>\n",
       "      <td>8</td>\n",
       "    </tr>\n",
       "    <tr>\n",
       "      <th>1</th>\n",
       "      <td>02/01/2022</td>\n",
       "      <td>lahore</td>\n",
       "      <td>10</td>\n",
       "    </tr>\n",
       "    <tr>\n",
       "      <th>2</th>\n",
       "      <td>03/01/2022</td>\n",
       "      <td>lahore</td>\n",
       "      <td>5</td>\n",
       "    </tr>\n",
       "    <tr>\n",
       "      <th>3</th>\n",
       "      <td>04/01/2022</td>\n",
       "      <td>lahore</td>\n",
       "      <td>6</td>\n",
       "    </tr>\n",
       "    <tr>\n",
       "      <th>4</th>\n",
       "      <td>05/01/2022</td>\n",
       "      <td>lahore</td>\n",
       "      <td>12</td>\n",
       "    </tr>\n",
       "    <tr>\n",
       "      <th>5</th>\n",
       "      <td>01/01/2022</td>\n",
       "      <td>karachi</td>\n",
       "      <td>18</td>\n",
       "    </tr>\n",
       "    <tr>\n",
       "      <th>6</th>\n",
       "      <td>02/01/2022</td>\n",
       "      <td>karachi</td>\n",
       "      <td>10</td>\n",
       "    </tr>\n",
       "    <tr>\n",
       "      <th>7</th>\n",
       "      <td>03/01/2022</td>\n",
       "      <td>karachi</td>\n",
       "      <td>12</td>\n",
       "    </tr>\n",
       "    <tr>\n",
       "      <th>8</th>\n",
       "      <td>04/01/2022</td>\n",
       "      <td>karachi</td>\n",
       "      <td>15</td>\n",
       "    </tr>\n",
       "    <tr>\n",
       "      <th>9</th>\n",
       "      <td>05/01/2022</td>\n",
       "      <td>karachi</td>\n",
       "      <td>16</td>\n",
       "    </tr>\n",
       "    <tr>\n",
       "      <th>10</th>\n",
       "      <td>01/01/2022</td>\n",
       "      <td>murree</td>\n",
       "      <td>-5</td>\n",
       "    </tr>\n",
       "    <tr>\n",
       "      <th>11</th>\n",
       "      <td>02/01/2022</td>\n",
       "      <td>murree</td>\n",
       "      <td>-3</td>\n",
       "    </tr>\n",
       "    <tr>\n",
       "      <th>12</th>\n",
       "      <td>03/01/2022</td>\n",
       "      <td>murree</td>\n",
       "      <td>-4</td>\n",
       "    </tr>\n",
       "    <tr>\n",
       "      <th>13</th>\n",
       "      <td>04/01/2022</td>\n",
       "      <td>murree</td>\n",
       "      <td>-1</td>\n",
       "    </tr>\n",
       "    <tr>\n",
       "      <th>14</th>\n",
       "      <td>05/01/2022</td>\n",
       "      <td>murree</td>\n",
       "      <td>-7</td>\n",
       "    </tr>\n",
       "  </tbody>\n",
       "</table>\n",
       "</div>"
      ],
      "text/plain": [
       "          date     city  temperature\n",
       "0   01/01/2022   lahore            8\n",
       "1   02/01/2022   lahore           10\n",
       "2   03/01/2022   lahore            5\n",
       "3   04/01/2022   lahore            6\n",
       "4   05/01/2022   lahore           12\n",
       "5   01/01/2022  karachi           18\n",
       "6   02/01/2022  karachi           10\n",
       "7   03/01/2022  karachi           12\n",
       "8   04/01/2022  karachi           15\n",
       "9   05/01/2022  karachi           16\n",
       "10  01/01/2022   murree           -5\n",
       "11  02/01/2022   murree           -3\n",
       "12  03/01/2022   murree           -4\n",
       "13  04/01/2022   murree           -1\n",
       "14  05/01/2022   murree           -7"
      ]
     },
     "execution_count": 47,
     "metadata": {},
     "output_type": "execute_result"
    }
   ],
   "source": [
    "import pandas as pd\n",
    "df = pd.read_csv(\"datasets/groupbydata1.csv\")\n",
    "df"
   ]
  },
  {
   "cell_type": "code",
   "execution_count": 49,
   "id": "57b8989d",
   "metadata": {},
   "outputs": [],
   "source": [
    "# a. Step 1: Split Step\n",
    "# In the split step we divide the data inside the dataframe into multiple groups\n",
    "# # Since we need to calculate the minimum temperature of each city, therefore, \n",
    "\n",
    "# we will use groupby() method on the city column of the dataframe.\n",
    "\n",
    "# This will result a DataFrameGroupBy object, which is an iterable containing multiple small dataframes \n",
    "# based on the by argument passed to the groupby() method"
   ]
  },
  {
   "cell_type": "code",
   "execution_count": 54,
   "id": "09a55c3f",
   "metadata": {},
   "outputs": [
    {
     "data": {
      "text/plain": [
       "<pandas.core.groupby.generic.DataFrameGroupBy object at 0x0000021BFCFAA410>"
      ]
     },
     "execution_count": 54,
     "metadata": {},
     "output_type": "execute_result"
    }
   ],
   "source": [
    "city_group = df.groupby('city')\n",
    "city_group"
   ]
  },
  {
   "cell_type": "code",
   "execution_count": 56,
   "id": "a9fbe701",
   "metadata": {},
   "outputs": [
    {
     "name": "stdout",
     "output_type": "stream",
     "text": [
      "('karachi',          date     city  temperature\n",
      "5  01/01/2022  karachi           18\n",
      "6  02/01/2022  karachi           10\n",
      "7  03/01/2022  karachi           12\n",
      "8  04/01/2022  karachi           15\n",
      "9  05/01/2022  karachi           16)\n",
      "('lahore',          date    city  temperature\n",
      "0  01/01/2022  lahore            8\n",
      "1  02/01/2022  lahore           10\n",
      "2  03/01/2022  lahore            5\n",
      "3  04/01/2022  lahore            6\n",
      "4  05/01/2022  lahore           12)\n",
      "('murree',           date    city  temperature\n",
      "10  01/01/2022  murree           -5\n",
      "11  02/01/2022  murree           -3\n",
      "12  03/01/2022  murree           -4\n",
      "13  04/01/2022  murree           -1\n",
      "14  05/01/2022  murree           -7)\n"
     ]
    }
   ],
   "source": [
    "for my_df in city_group:\n",
    "    print(my_df)"
   ]
  },
  {
   "cell_type": "code",
   "execution_count": 60,
   "id": "c9d06698",
   "metadata": {},
   "outputs": [
    {
     "data": {
      "text/plain": [
       "{'karachi': [5, 6, 7, 8, 9], 'lahore': [0, 1, 2, 3, 4], 'murree': [10, 11, 12, 13, 14]}"
      ]
     },
     "execution_count": 60,
     "metadata": {},
     "output_type": "execute_result"
    }
   ],
   "source": [
    "city_group.groups\n",
    "# df.groupby('city').groups"
   ]
  },
  {
   "cell_type": "code",
   "execution_count": 61,
   "id": "d44e51a5",
   "metadata": {},
   "outputs": [
    {
     "data": {
      "text/html": [
       "<div>\n",
       "<style scoped>\n",
       "    .dataframe tbody tr th:only-of-type {\n",
       "        vertical-align: middle;\n",
       "    }\n",
       "\n",
       "    .dataframe tbody tr th {\n",
       "        vertical-align: top;\n",
       "    }\n",
       "\n",
       "    .dataframe thead th {\n",
       "        text-align: right;\n",
       "    }\n",
       "</style>\n",
       "<table border=\"1\" class=\"dataframe\">\n",
       "  <thead>\n",
       "    <tr style=\"text-align: right;\">\n",
       "      <th></th>\n",
       "      <th>date</th>\n",
       "      <th>city</th>\n",
       "      <th>temperature</th>\n",
       "    </tr>\n",
       "  </thead>\n",
       "  <tbody>\n",
       "    <tr>\n",
       "      <th>5</th>\n",
       "      <td>01/01/2022</td>\n",
       "      <td>karachi</td>\n",
       "      <td>18</td>\n",
       "    </tr>\n",
       "    <tr>\n",
       "      <th>6</th>\n",
       "      <td>02/01/2022</td>\n",
       "      <td>karachi</td>\n",
       "      <td>10</td>\n",
       "    </tr>\n",
       "    <tr>\n",
       "      <th>7</th>\n",
       "      <td>03/01/2022</td>\n",
       "      <td>karachi</td>\n",
       "      <td>12</td>\n",
       "    </tr>\n",
       "    <tr>\n",
       "      <th>8</th>\n",
       "      <td>04/01/2022</td>\n",
       "      <td>karachi</td>\n",
       "      <td>15</td>\n",
       "    </tr>\n",
       "    <tr>\n",
       "      <th>9</th>\n",
       "      <td>05/01/2022</td>\n",
       "      <td>karachi</td>\n",
       "      <td>16</td>\n",
       "    </tr>\n",
       "  </tbody>\n",
       "</table>\n",
       "</div>"
      ],
      "text/plain": [
       "         date     city  temperature\n",
       "5  01/01/2022  karachi           18\n",
       "6  02/01/2022  karachi           10\n",
       "7  03/01/2022  karachi           12\n",
       "8  04/01/2022  karachi           15\n",
       "9  05/01/2022  karachi           16"
      ]
     },
     "execution_count": 61,
     "metadata": {},
     "output_type": "execute_result"
    }
   ],
   "source": [
    "# get the data fro a specific group\n",
    "city_group.get_group('karachi')"
   ]
  },
  {
   "cell_type": "code",
   "execution_count": 62,
   "id": "cebf4d31",
   "metadata": {},
   "outputs": [
    {
     "data": {
      "text/plain": [
       "city\n",
       "karachi    5\n",
       "lahore     5\n",
       "murree     5\n",
       "dtype: int64"
      ]
     },
     "execution_count": 62,
     "metadata": {},
     "output_type": "execute_result"
    }
   ],
   "source": [
    "# get the size of a group\n",
    "city_group.size()"
   ]
  },
  {
   "cell_type": "code",
   "execution_count": 63,
   "id": "4cc532e9",
   "metadata": {},
   "outputs": [],
   "source": [
    "# APPLYING A FUNCTION TO EACH GROUP"
   ]
  },
  {
   "cell_type": "code",
   "execution_count": 69,
   "id": "ac4e1570",
   "metadata": {},
   "outputs": [
    {
     "data": {
      "text/html": [
       "<div>\n",
       "<style scoped>\n",
       "    .dataframe tbody tr th:only-of-type {\n",
       "        vertical-align: middle;\n",
       "    }\n",
       "\n",
       "    .dataframe tbody tr th {\n",
       "        vertical-align: top;\n",
       "    }\n",
       "\n",
       "    .dataframe thead th {\n",
       "        text-align: right;\n",
       "    }\n",
       "</style>\n",
       "<table border=\"1\" class=\"dataframe\">\n",
       "  <thead>\n",
       "    <tr style=\"text-align: right;\">\n",
       "      <th></th>\n",
       "      <th>date</th>\n",
       "      <th>city</th>\n",
       "      <th>temperature</th>\n",
       "    </tr>\n",
       "  </thead>\n",
       "  <tbody>\n",
       "    <tr>\n",
       "      <th>10</th>\n",
       "      <td>01/01/2022</td>\n",
       "      <td>murree</td>\n",
       "      <td>-5</td>\n",
       "    </tr>\n",
       "    <tr>\n",
       "      <th>11</th>\n",
       "      <td>02/01/2022</td>\n",
       "      <td>murree</td>\n",
       "      <td>-3</td>\n",
       "    </tr>\n",
       "    <tr>\n",
       "      <th>12</th>\n",
       "      <td>03/01/2022</td>\n",
       "      <td>murree</td>\n",
       "      <td>-4</td>\n",
       "    </tr>\n",
       "    <tr>\n",
       "      <th>13</th>\n",
       "      <td>04/01/2022</td>\n",
       "      <td>murree</td>\n",
       "      <td>-1</td>\n",
       "    </tr>\n",
       "    <tr>\n",
       "      <th>14</th>\n",
       "      <td>05/01/2022</td>\n",
       "      <td>murree</td>\n",
       "      <td>-7</td>\n",
       "    </tr>\n",
       "  </tbody>\n",
       "</table>\n",
       "</div>"
      ],
      "text/plain": [
       "          date    city  temperature\n",
       "10  01/01/2022  murree           -5\n",
       "11  02/01/2022  murree           -3\n",
       "12  03/01/2022  murree           -4\n",
       "13  04/01/2022  murree           -1\n",
       "14  05/01/2022  murree           -7"
      ]
     },
     "execution_count": 69,
     "metadata": {},
     "output_type": "execute_result"
    }
   ],
   "source": [
    "city_murree = city_group.get_group('murree')\n",
    "city_murree"
   ]
  },
  {
   "cell_type": "code",
   "execution_count": 68,
   "id": "d1b80622",
   "metadata": {},
   "outputs": [
    {
     "data": {
      "text/plain": [
       "-7"
      ]
     },
     "execution_count": 68,
     "metadata": {},
     "output_type": "execute_result"
    }
   ],
   "source": [
    "city_murree.temperature.min()"
   ]
  },
  {
   "cell_type": "code",
   "execution_count": 70,
   "id": "22cc7fdc",
   "metadata": {},
   "outputs": [
    {
     "data": {
      "text/html": [
       "<div>\n",
       "<style scoped>\n",
       "    .dataframe tbody tr th:only-of-type {\n",
       "        vertical-align: middle;\n",
       "    }\n",
       "\n",
       "    .dataframe tbody tr th {\n",
       "        vertical-align: top;\n",
       "    }\n",
       "\n",
       "    .dataframe thead th {\n",
       "        text-align: right;\n",
       "    }\n",
       "</style>\n",
       "<table border=\"1\" class=\"dataframe\">\n",
       "  <thead>\n",
       "    <tr style=\"text-align: right;\">\n",
       "      <th></th>\n",
       "      <th>date</th>\n",
       "      <th>city</th>\n",
       "      <th>temperature</th>\n",
       "    </tr>\n",
       "  </thead>\n",
       "  <tbody>\n",
       "    <tr>\n",
       "      <th>0</th>\n",
       "      <td>01/01/2022</td>\n",
       "      <td>lahore</td>\n",
       "      <td>8</td>\n",
       "    </tr>\n",
       "    <tr>\n",
       "      <th>1</th>\n",
       "      <td>02/01/2022</td>\n",
       "      <td>lahore</td>\n",
       "      <td>10</td>\n",
       "    </tr>\n",
       "    <tr>\n",
       "      <th>2</th>\n",
       "      <td>03/01/2022</td>\n",
       "      <td>lahore</td>\n",
       "      <td>5</td>\n",
       "    </tr>\n",
       "    <tr>\n",
       "      <th>3</th>\n",
       "      <td>04/01/2022</td>\n",
       "      <td>lahore</td>\n",
       "      <td>6</td>\n",
       "    </tr>\n",
       "    <tr>\n",
       "      <th>4</th>\n",
       "      <td>05/01/2022</td>\n",
       "      <td>lahore</td>\n",
       "      <td>12</td>\n",
       "    </tr>\n",
       "  </tbody>\n",
       "</table>\n",
       "</div>"
      ],
      "text/plain": [
       "         date    city  temperature\n",
       "0  01/01/2022  lahore            8\n",
       "1  02/01/2022  lahore           10\n",
       "2  03/01/2022  lahore            5\n",
       "3  04/01/2022  lahore            6\n",
       "4  05/01/2022  lahore           12"
      ]
     },
     "execution_count": 70,
     "metadata": {},
     "output_type": "execute_result"
    }
   ],
   "source": [
    "city_lahore = city_group.get_group('lahore')\n",
    "city_lahore"
   ]
  },
  {
   "cell_type": "code",
   "execution_count": 71,
   "id": "a0307944",
   "metadata": {},
   "outputs": [
    {
     "data": {
      "text/plain": [
       "8.2"
      ]
     },
     "execution_count": 71,
     "metadata": {},
     "output_type": "execute_result"
    }
   ],
   "source": [
    "city_lahore.temperature.mean()"
   ]
  },
  {
   "cell_type": "code",
   "execution_count": 72,
   "id": "31c27ff1",
   "metadata": {},
   "outputs": [],
   "source": [
    "# we can combine the min value of each group"
   ]
  },
  {
   "cell_type": "code",
   "execution_count": 73,
   "id": "1f5726b1",
   "metadata": {},
   "outputs": [
    {
     "data": {
      "text/html": [
       "<div>\n",
       "<style scoped>\n",
       "    .dataframe tbody tr th:only-of-type {\n",
       "        vertical-align: middle;\n",
       "    }\n",
       "\n",
       "    .dataframe tbody tr th {\n",
       "        vertical-align: top;\n",
       "    }\n",
       "\n",
       "    .dataframe thead th {\n",
       "        text-align: right;\n",
       "    }\n",
       "</style>\n",
       "<table border=\"1\" class=\"dataframe\">\n",
       "  <thead>\n",
       "    <tr style=\"text-align: right;\">\n",
       "      <th></th>\n",
       "      <th>date</th>\n",
       "      <th>city</th>\n",
       "      <th>temperature</th>\n",
       "    </tr>\n",
       "  </thead>\n",
       "  <tbody>\n",
       "    <tr>\n",
       "      <th>5</th>\n",
       "      <td>01/01/2022</td>\n",
       "      <td>karachi</td>\n",
       "      <td>18</td>\n",
       "    </tr>\n",
       "    <tr>\n",
       "      <th>6</th>\n",
       "      <td>02/01/2022</td>\n",
       "      <td>karachi</td>\n",
       "      <td>10</td>\n",
       "    </tr>\n",
       "    <tr>\n",
       "      <th>7</th>\n",
       "      <td>03/01/2022</td>\n",
       "      <td>karachi</td>\n",
       "      <td>12</td>\n",
       "    </tr>\n",
       "    <tr>\n",
       "      <th>8</th>\n",
       "      <td>04/01/2022</td>\n",
       "      <td>karachi</td>\n",
       "      <td>15</td>\n",
       "    </tr>\n",
       "    <tr>\n",
       "      <th>9</th>\n",
       "      <td>05/01/2022</td>\n",
       "      <td>karachi</td>\n",
       "      <td>16</td>\n",
       "    </tr>\n",
       "  </tbody>\n",
       "</table>\n",
       "</div>"
      ],
      "text/plain": [
       "         date     city  temperature\n",
       "5  01/01/2022  karachi           18\n",
       "6  02/01/2022  karachi           10\n",
       "7  03/01/2022  karachi           12\n",
       "8  04/01/2022  karachi           15\n",
       "9  05/01/2022  karachi           16"
      ]
     },
     "execution_count": 73,
     "metadata": {},
     "output_type": "execute_result"
    }
   ],
   "source": [
    "city_karachi = city_group.get_group('karachi')\n",
    "city_karachi"
   ]
  },
  {
   "cell_type": "code",
   "execution_count": 75,
   "id": "4526baf4",
   "metadata": {},
   "outputs": [],
   "source": [
    "kar_min = city_karachi.temperature.min()\n",
    "lah_min = city_lahore.temperature.min()\n",
    "mur_min = city_murree.temperature.min()"
   ]
  },
  {
   "cell_type": "code",
   "execution_count": 77,
   "id": "c870745b",
   "metadata": {},
   "outputs": [
    {
     "data": {
      "text/plain": [
       "K_min    10\n",
       "L_min     5\n",
       "M_min    -7\n",
       "Name: Min Temp, dtype: int64"
      ]
     },
     "execution_count": 77,
     "metadata": {},
     "output_type": "execute_result"
    }
   ],
   "source": [
    "series = pd.Series(data = [kar_min, lah_min, mur_min], index = [\"K_min\", \"L_min\", \"M_min\"])\n",
    "series.name = \"Min Temp\"\n",
    "series"
   ]
  },
  {
   "cell_type": "code",
   "execution_count": 79,
   "id": "00ce465d",
   "metadata": {},
   "outputs": [
    {
     "data": {
      "text/plain": [
       "city\n",
       "karachi    10\n",
       "lahore      5\n",
       "murree     -7\n",
       "Name: temperature, dtype: int64"
      ]
     },
     "execution_count": 79,
     "metadata": {},
     "output_type": "execute_result"
    }
   ],
   "source": [
    "df.groupby('city').temperature.min()"
   ]
  },
  {
   "cell_type": "code",
   "execution_count": 81,
   "id": "92a591ba",
   "metadata": {},
   "outputs": [
    {
     "data": {
      "text/html": [
       "<div>\n",
       "<style scoped>\n",
       "    .dataframe tbody tr th:only-of-type {\n",
       "        vertical-align: middle;\n",
       "    }\n",
       "\n",
       "    .dataframe tbody tr th {\n",
       "        vertical-align: top;\n",
       "    }\n",
       "\n",
       "    .dataframe thead th {\n",
       "        text-align: right;\n",
       "    }\n",
       "</style>\n",
       "<table border=\"1\" class=\"dataframe\">\n",
       "  <thead>\n",
       "    <tr style=\"text-align: right;\">\n",
       "      <th></th>\n",
       "      <th>min</th>\n",
       "      <th>max</th>\n",
       "      <th>count</th>\n",
       "      <th>mean</th>\n",
       "    </tr>\n",
       "    <tr>\n",
       "      <th>city</th>\n",
       "      <th></th>\n",
       "      <th></th>\n",
       "      <th></th>\n",
       "      <th></th>\n",
       "    </tr>\n",
       "  </thead>\n",
       "  <tbody>\n",
       "    <tr>\n",
       "      <th>karachi</th>\n",
       "      <td>10</td>\n",
       "      <td>18</td>\n",
       "      <td>5</td>\n",
       "      <td>14.2</td>\n",
       "    </tr>\n",
       "    <tr>\n",
       "      <th>lahore</th>\n",
       "      <td>5</td>\n",
       "      <td>12</td>\n",
       "      <td>5</td>\n",
       "      <td>8.2</td>\n",
       "    </tr>\n",
       "    <tr>\n",
       "      <th>murree</th>\n",
       "      <td>-7</td>\n",
       "      <td>-1</td>\n",
       "      <td>5</td>\n",
       "      <td>-4.0</td>\n",
       "    </tr>\n",
       "  </tbody>\n",
       "</table>\n",
       "</div>"
      ],
      "text/plain": [
       "         min  max  count  mean\n",
       "city                          \n",
       "karachi   10   18      5  14.2\n",
       "lahore     5   12      5   8.2\n",
       "murree    -7   -1      5  -4.0"
      ]
     },
     "execution_count": 81,
     "metadata": {},
     "output_type": "execute_result"
    }
   ],
   "source": [
    "city_group.temperature.agg(['min', 'max', 'count', 'mean'])"
   ]
  },
  {
   "cell_type": "code",
   "execution_count": 4,
   "id": "392be352",
   "metadata": {},
   "outputs": [
    {
     "data": {
      "text/html": [
       "<div>\n",
       "<style scoped>\n",
       "    .dataframe tbody tr th:only-of-type {\n",
       "        vertical-align: middle;\n",
       "    }\n",
       "\n",
       "    .dataframe tbody tr th {\n",
       "        vertical-align: top;\n",
       "    }\n",
       "\n",
       "    .dataframe thead th {\n",
       "        text-align: right;\n",
       "    }\n",
       "</style>\n",
       "<table border=\"1\" class=\"dataframe\">\n",
       "  <thead>\n",
       "    <tr style=\"text-align: right;\">\n",
       "      <th></th>\n",
       "      <th>MainBranch</th>\n",
       "      <th>Hobbyist</th>\n",
       "      <th>Country</th>\n",
       "      <th>YearsCode</th>\n",
       "      <th>ConvertedComp</th>\n",
       "      <th>LanguageWorkedWith</th>\n",
       "      <th>SocialMedia</th>\n",
       "      <th>Age</th>\n",
       "      <th>Gender</th>\n",
       "    </tr>\n",
       "    <tr>\n",
       "      <th>Respondent</th>\n",
       "      <th></th>\n",
       "      <th></th>\n",
       "      <th></th>\n",
       "      <th></th>\n",
       "      <th></th>\n",
       "      <th></th>\n",
       "      <th></th>\n",
       "      <th></th>\n",
       "      <th></th>\n",
       "    </tr>\n",
       "  </thead>\n",
       "  <tbody>\n",
       "    <tr>\n",
       "      <th>1</th>\n",
       "      <td>I am a student who is learning to code</td>\n",
       "      <td>Yes</td>\n",
       "      <td>United Kingdom</td>\n",
       "      <td>4</td>\n",
       "      <td>NaN</td>\n",
       "      <td>HTML/CSS;Java;JavaScript;Python</td>\n",
       "      <td>Twitter</td>\n",
       "      <td>14.0</td>\n",
       "      <td>Man</td>\n",
       "    </tr>\n",
       "    <tr>\n",
       "      <th>2</th>\n",
       "      <td>I am a student who is learning to code</td>\n",
       "      <td>No</td>\n",
       "      <td>Bosnia and Herzegovina</td>\n",
       "      <td>NaN</td>\n",
       "      <td>NaN</td>\n",
       "      <td>C++;HTML/CSS;Python</td>\n",
       "      <td>Instagram</td>\n",
       "      <td>19.0</td>\n",
       "      <td>Man</td>\n",
       "    </tr>\n",
       "    <tr>\n",
       "      <th>3</th>\n",
       "      <td>I am not primarily a developer, but I write co...</td>\n",
       "      <td>Yes</td>\n",
       "      <td>Thailand</td>\n",
       "      <td>3</td>\n",
       "      <td>8820.0</td>\n",
       "      <td>HTML/CSS</td>\n",
       "      <td>Reddit</td>\n",
       "      <td>28.0</td>\n",
       "      <td>Man</td>\n",
       "    </tr>\n",
       "    <tr>\n",
       "      <th>4</th>\n",
       "      <td>I am a developer by profession</td>\n",
       "      <td>No</td>\n",
       "      <td>United States</td>\n",
       "      <td>3</td>\n",
       "      <td>61000.0</td>\n",
       "      <td>C;C++;C#;Python;SQL</td>\n",
       "      <td>Reddit</td>\n",
       "      <td>22.0</td>\n",
       "      <td>Man</td>\n",
       "    </tr>\n",
       "    <tr>\n",
       "      <th>5</th>\n",
       "      <td>I am a developer by profession</td>\n",
       "      <td>Yes</td>\n",
       "      <td>Ukraine</td>\n",
       "      <td>16</td>\n",
       "      <td>NaN</td>\n",
       "      <td>C++;HTML/CSS;Java;JavaScript;Python;SQL;VBA</td>\n",
       "      <td>Facebook</td>\n",
       "      <td>30.0</td>\n",
       "      <td>Man</td>\n",
       "    </tr>\n",
       "  </tbody>\n",
       "</table>\n",
       "</div>"
      ],
      "text/plain": [
       "                                                   MainBranch Hobbyist  \\\n",
       "Respondent                                                               \n",
       "1                      I am a student who is learning to code      Yes   \n",
       "2                      I am a student who is learning to code       No   \n",
       "3           I am not primarily a developer, but I write co...      Yes   \n",
       "4                              I am a developer by profession       No   \n",
       "5                              I am a developer by profession      Yes   \n",
       "\n",
       "                           Country YearsCode  ConvertedComp  \\\n",
       "Respondent                                                    \n",
       "1                   United Kingdom         4            NaN   \n",
       "2           Bosnia and Herzegovina       NaN            NaN   \n",
       "3                         Thailand         3         8820.0   \n",
       "4                    United States         3        61000.0   \n",
       "5                          Ukraine        16            NaN   \n",
       "\n",
       "                                     LanguageWorkedWith SocialMedia   Age  \\\n",
       "Respondent                                                                  \n",
       "1                       HTML/CSS;Java;JavaScript;Python     Twitter  14.0   \n",
       "2                                   C++;HTML/CSS;Python   Instagram  19.0   \n",
       "3                                              HTML/CSS      Reddit  28.0   \n",
       "4                                   C;C++;C#;Python;SQL      Reddit  22.0   \n",
       "5           C++;HTML/CSS;Java;JavaScript;Python;SQL;VBA    Facebook  30.0   \n",
       "\n",
       "           Gender  \n",
       "Respondent         \n",
       "1             Man  \n",
       "2             Man  \n",
       "3             Man  \n",
       "4             Man  \n",
       "5             Man  "
      ]
     },
     "execution_count": 4,
     "metadata": {},
     "output_type": "execute_result"
    }
   ],
   "source": [
    "import pandas as pd\n",
    "df = pd.read_csv(\"datasets/so_survey_subset.csv\", index_col = \"Respondent\")\n",
    "df.head()"
   ]
  },
  {
   "cell_type": "code",
   "execution_count": 85,
   "id": "123c3c87",
   "metadata": {},
   "outputs": [
    {
     "data": {
      "text/plain": [
       "(88883, 9)"
      ]
     },
     "execution_count": 85,
     "metadata": {},
     "output_type": "execute_result"
    }
   ],
   "source": [
    "df.shape"
   ]
  },
  {
   "cell_type": "code",
   "execution_count": 87,
   "id": "7ed3bc63",
   "metadata": {},
   "outputs": [
    {
     "data": {
      "text/html": [
       "<div>\n",
       "<style scoped>\n",
       "    .dataframe tbody tr th:only-of-type {\n",
       "        vertical-align: middle;\n",
       "    }\n",
       "\n",
       "    .dataframe tbody tr th {\n",
       "        vertical-align: top;\n",
       "    }\n",
       "\n",
       "    .dataframe thead th {\n",
       "        text-align: right;\n",
       "    }\n",
       "</style>\n",
       "<table border=\"1\" class=\"dataframe\">\n",
       "  <thead>\n",
       "    <tr style=\"text-align: right;\">\n",
       "      <th></th>\n",
       "      <th>MainBranch</th>\n",
       "      <th>Hobbyist</th>\n",
       "      <th>Country</th>\n",
       "      <th>YearsCode</th>\n",
       "      <th>ConvertedComp</th>\n",
       "      <th>LanguageWorkedWith</th>\n",
       "      <th>SocialMedia</th>\n",
       "      <th>Age</th>\n",
       "      <th>Gender</th>\n",
       "    </tr>\n",
       "    <tr>\n",
       "      <th>Respondent</th>\n",
       "      <th></th>\n",
       "      <th></th>\n",
       "      <th></th>\n",
       "      <th></th>\n",
       "      <th></th>\n",
       "      <th></th>\n",
       "      <th></th>\n",
       "      <th></th>\n",
       "      <th></th>\n",
       "    </tr>\n",
       "  </thead>\n",
       "  <tbody>\n",
       "    <tr>\n",
       "      <th>4</th>\n",
       "      <td>I am a developer by profession</td>\n",
       "      <td>No</td>\n",
       "      <td>United States</td>\n",
       "      <td>3</td>\n",
       "      <td>61000.0</td>\n",
       "      <td>C;C++;C#;Python;SQL</td>\n",
       "      <td>Reddit</td>\n",
       "      <td>22.0</td>\n",
       "      <td>Man</td>\n",
       "    </tr>\n",
       "    <tr>\n",
       "      <th>13</th>\n",
       "      <td>I am a developer by profession</td>\n",
       "      <td>Yes</td>\n",
       "      <td>United States</td>\n",
       "      <td>17</td>\n",
       "      <td>90000.0</td>\n",
       "      <td>Bash/Shell/PowerShell;HTML/CSS;JavaScript;PHP;...</td>\n",
       "      <td>Twitter</td>\n",
       "      <td>28.0</td>\n",
       "      <td>Man</td>\n",
       "    </tr>\n",
       "    <tr>\n",
       "      <th>22</th>\n",
       "      <td>I am a developer by profession</td>\n",
       "      <td>Yes</td>\n",
       "      <td>United States</td>\n",
       "      <td>35</td>\n",
       "      <td>103000.0</td>\n",
       "      <td>Bash/Shell/PowerShell;C++;HTML/CSS;JavaScript;...</td>\n",
       "      <td>Instagram</td>\n",
       "      <td>47.0</td>\n",
       "      <td>Man</td>\n",
       "    </tr>\n",
       "    <tr>\n",
       "      <th>23</th>\n",
       "      <td>I am a developer by profession</td>\n",
       "      <td>Yes</td>\n",
       "      <td>United States</td>\n",
       "      <td>3</td>\n",
       "      <td>69000.0</td>\n",
       "      <td>Bash/Shell/PowerShell;HTML/CSS;JavaScript;Pyth...</td>\n",
       "      <td>Reddit</td>\n",
       "      <td>22.0</td>\n",
       "      <td>Man</td>\n",
       "    </tr>\n",
       "    <tr>\n",
       "      <th>26</th>\n",
       "      <td>I am a developer by profession</td>\n",
       "      <td>Yes</td>\n",
       "      <td>United States</td>\n",
       "      <td>12</td>\n",
       "      <td>114000.0</td>\n",
       "      <td>Bash/Shell/PowerShell;C++;C#;HTML/CSS;JavaScri...</td>\n",
       "      <td>I don't use social media</td>\n",
       "      <td>34.0</td>\n",
       "      <td>Man</td>\n",
       "    </tr>\n",
       "    <tr>\n",
       "      <th>...</th>\n",
       "      <td>...</td>\n",
       "      <td>...</td>\n",
       "      <td>...</td>\n",
       "      <td>...</td>\n",
       "      <td>...</td>\n",
       "      <td>...</td>\n",
       "      <td>...</td>\n",
       "      <td>...</td>\n",
       "      <td>...</td>\n",
       "    </tr>\n",
       "    <tr>\n",
       "      <th>78292</th>\n",
       "      <td>NaN</td>\n",
       "      <td>No</td>\n",
       "      <td>United States</td>\n",
       "      <td>42</td>\n",
       "      <td>NaN</td>\n",
       "      <td>Bash/Shell/PowerShell;C;Python</td>\n",
       "      <td>I don't use social media</td>\n",
       "      <td>60.0</td>\n",
       "      <td>Man</td>\n",
       "    </tr>\n",
       "    <tr>\n",
       "      <th>82717</th>\n",
       "      <td>NaN</td>\n",
       "      <td>No</td>\n",
       "      <td>United States</td>\n",
       "      <td>Less than 1 year</td>\n",
       "      <td>NaN</td>\n",
       "      <td>NaN</td>\n",
       "      <td>Facebook</td>\n",
       "      <td>44.0</td>\n",
       "      <td>Man</td>\n",
       "    </tr>\n",
       "    <tr>\n",
       "      <th>83397</th>\n",
       "      <td>NaN</td>\n",
       "      <td>Yes</td>\n",
       "      <td>United States</td>\n",
       "      <td>12</td>\n",
       "      <td>NaN</td>\n",
       "      <td>HTML/CSS;JavaScript;Python;SQL</td>\n",
       "      <td>NaN</td>\n",
       "      <td>27.0</td>\n",
       "      <td>Woman</td>\n",
       "    </tr>\n",
       "    <tr>\n",
       "      <th>85642</th>\n",
       "      <td>NaN</td>\n",
       "      <td>No</td>\n",
       "      <td>United States</td>\n",
       "      <td>20</td>\n",
       "      <td>NaN</td>\n",
       "      <td>Go;HTML/CSS</td>\n",
       "      <td>NaN</td>\n",
       "      <td>34.0</td>\n",
       "      <td>Non-binary, genderqueer, or gender non-conforming</td>\n",
       "    </tr>\n",
       "    <tr>\n",
       "      <th>88282</th>\n",
       "      <td>NaN</td>\n",
       "      <td>Yes</td>\n",
       "      <td>United States</td>\n",
       "      <td>38</td>\n",
       "      <td>NaN</td>\n",
       "      <td>Bash/Shell/PowerShell;Go;HTML/CSS;JavaScript;W...</td>\n",
       "      <td>I don't use social media</td>\n",
       "      <td>NaN</td>\n",
       "      <td>Man</td>\n",
       "    </tr>\n",
       "  </tbody>\n",
       "</table>\n",
       "<p>20949 rows × 9 columns</p>\n",
       "</div>"
      ],
      "text/plain": [
       "                                MainBranch Hobbyist        Country  \\\n",
       "Respondent                                                           \n",
       "4           I am a developer by profession       No  United States   \n",
       "13          I am a developer by profession      Yes  United States   \n",
       "22          I am a developer by profession      Yes  United States   \n",
       "23          I am a developer by profession      Yes  United States   \n",
       "26          I am a developer by profession      Yes  United States   \n",
       "...                                    ...      ...            ...   \n",
       "78292                                  NaN       No  United States   \n",
       "82717                                  NaN       No  United States   \n",
       "83397                                  NaN      Yes  United States   \n",
       "85642                                  NaN       No  United States   \n",
       "88282                                  NaN      Yes  United States   \n",
       "\n",
       "                   YearsCode  ConvertedComp  \\\n",
       "Respondent                                    \n",
       "4                          3        61000.0   \n",
       "13                        17        90000.0   \n",
       "22                        35       103000.0   \n",
       "23                         3        69000.0   \n",
       "26                        12       114000.0   \n",
       "...                      ...            ...   \n",
       "78292                     42            NaN   \n",
       "82717       Less than 1 year            NaN   \n",
       "83397                     12            NaN   \n",
       "85642                     20            NaN   \n",
       "88282                     38            NaN   \n",
       "\n",
       "                                           LanguageWorkedWith  \\\n",
       "Respondent                                                      \n",
       "4                                         C;C++;C#;Python;SQL   \n",
       "13          Bash/Shell/PowerShell;HTML/CSS;JavaScript;PHP;...   \n",
       "22          Bash/Shell/PowerShell;C++;HTML/CSS;JavaScript;...   \n",
       "23          Bash/Shell/PowerShell;HTML/CSS;JavaScript;Pyth...   \n",
       "26          Bash/Shell/PowerShell;C++;C#;HTML/CSS;JavaScri...   \n",
       "...                                                       ...   \n",
       "78292                          Bash/Shell/PowerShell;C;Python   \n",
       "82717                                                     NaN   \n",
       "83397                          HTML/CSS;JavaScript;Python;SQL   \n",
       "85642                                             Go;HTML/CSS   \n",
       "88282       Bash/Shell/PowerShell;Go;HTML/CSS;JavaScript;W...   \n",
       "\n",
       "                         SocialMedia   Age  \\\n",
       "Respondent                                   \n",
       "4                             Reddit  22.0   \n",
       "13                           Twitter  28.0   \n",
       "22                         Instagram  47.0   \n",
       "23                            Reddit  22.0   \n",
       "26          I don't use social media  34.0   \n",
       "...                              ...   ...   \n",
       "78292       I don't use social media  60.0   \n",
       "82717                       Facebook  44.0   \n",
       "83397                            NaN  27.0   \n",
       "85642                            NaN  34.0   \n",
       "88282       I don't use social media   NaN   \n",
       "\n",
       "                                                       Gender  \n",
       "Respondent                                                     \n",
       "4                                                         Man  \n",
       "13                                                        Man  \n",
       "22                                                        Man  \n",
       "23                                                        Man  \n",
       "26                                                        Man  \n",
       "...                                                       ...  \n",
       "78292                                                     Man  \n",
       "82717                                                     Man  \n",
       "83397                                                   Woman  \n",
       "85642       Non-binary, genderqueer, or gender non-conforming  \n",
       "88282                                                     Man  \n",
       "\n",
       "[20949 rows x 9 columns]"
      ]
     },
     "execution_count": 87,
     "metadata": {},
     "output_type": "execute_result"
    }
   ],
   "source": [
    "df.loc[df['Country'] == 'United States']"
   ]
  },
  {
   "cell_type": "code",
   "execution_count": 2,
   "id": "334de275",
   "metadata": {},
   "outputs": [
    {
     "data": {
      "text/html": [
       "<div>\n",
       "<style scoped>\n",
       "    .dataframe tbody tr th:only-of-type {\n",
       "        vertical-align: middle;\n",
       "    }\n",
       "\n",
       "    .dataframe tbody tr th {\n",
       "        vertical-align: top;\n",
       "    }\n",
       "\n",
       "    .dataframe thead th {\n",
       "        text-align: right;\n",
       "    }\n",
       "</style>\n",
       "<table border=\"1\" class=\"dataframe\">\n",
       "  <thead>\n",
       "    <tr style=\"text-align: right;\">\n",
       "      <th></th>\n",
       "      <th>QuestionText</th>\n",
       "    </tr>\n",
       "    <tr>\n",
       "      <th>Column</th>\n",
       "      <th></th>\n",
       "    </tr>\n",
       "  </thead>\n",
       "  <tbody>\n",
       "    <tr>\n",
       "      <th>Respondent</th>\n",
       "      <td>Randomized respondent ID number (not in order ...</td>\n",
       "    </tr>\n",
       "    <tr>\n",
       "      <th>MainBranch</th>\n",
       "      <td>Which of the following options best describes ...</td>\n",
       "    </tr>\n",
       "    <tr>\n",
       "      <th>Hobbyist</th>\n",
       "      <td>Do you code as a hobby?</td>\n",
       "    </tr>\n",
       "    <tr>\n",
       "      <th>Country</th>\n",
       "      <td>In which country do you currently reside?</td>\n",
       "    </tr>\n",
       "    <tr>\n",
       "      <th>YearsCode</th>\n",
       "      <td>Including any education, how many years have y...</td>\n",
       "    </tr>\n",
       "    <tr>\n",
       "      <th>ConvertedComp</th>\n",
       "      <td>Salary converted to annual USD salaries using ...</td>\n",
       "    </tr>\n",
       "    <tr>\n",
       "      <th>LanguageWorkedWith</th>\n",
       "      <td>Which of the following programming, scripting,...</td>\n",
       "    </tr>\n",
       "    <tr>\n",
       "      <th>SocialMedia</th>\n",
       "      <td>What social media site do you use the most?</td>\n",
       "    </tr>\n",
       "    <tr>\n",
       "      <th>Age</th>\n",
       "      <td>What is your age (in years)? If you prefer not...</td>\n",
       "    </tr>\n",
       "    <tr>\n",
       "      <th>Gender</th>\n",
       "      <td>Which of the following do you currently identi...</td>\n",
       "    </tr>\n",
       "  </tbody>\n",
       "</table>\n",
       "</div>"
      ],
      "text/plain": [
       "                                                         QuestionText\n",
       "Column                                                               \n",
       "Respondent          Randomized respondent ID number (not in order ...\n",
       "MainBranch          Which of the following options best describes ...\n",
       "Hobbyist                                      Do you code as a hobby?\n",
       "Country                     In which country do you currently reside?\n",
       "YearsCode           Including any education, how many years have y...\n",
       "ConvertedComp       Salary converted to annual USD salaries using ...\n",
       "LanguageWorkedWith  Which of the following programming, scripting,...\n",
       "SocialMedia               What social media site do you use the most?\n",
       "Age                 What is your age (in years)? If you prefer not...\n",
       "Gender              Which of the following do you currently identi..."
      ]
     },
     "execution_count": 2,
     "metadata": {},
     "output_type": "execute_result"
    }
   ],
   "source": [
    "import pandas as pd\n",
    "schema = pd.read_csv(\"datasets/so_survey_subset_schema.csv\", index_col = \"Column\")\n",
    "schema"
   ]
  },
  {
   "cell_type": "code",
   "execution_count": 91,
   "id": "4dd78283",
   "metadata": {},
   "outputs": [
    {
     "data": {
      "text/plain": [
       "QuestionText    Do you code as a hobby?\n",
       "Name: Hobbyist, dtype: object"
      ]
     },
     "execution_count": 91,
     "metadata": {},
     "output_type": "execute_result"
    }
   ],
   "source": [
    "schema.loc['Hobbyist']"
   ]
  },
  {
   "cell_type": "code",
   "execution_count": 92,
   "id": "0125e7ba",
   "metadata": {},
   "outputs": [
    {
     "data": {
      "text/plain": [
       "Respondent\n",
       "1        Yes\n",
       "2         No\n",
       "3        Yes\n",
       "4         No\n",
       "5        Yes\n",
       "        ... \n",
       "88377    Yes\n",
       "88601     No\n",
       "88802     No\n",
       "88816     No\n",
       "88863    Yes\n",
       "Name: Hobbyist, Length: 88883, dtype: object"
      ]
     },
     "execution_count": 92,
     "metadata": {},
     "output_type": "execute_result"
    }
   ],
   "source": [
    "df['Hobbyist']"
   ]
  },
  {
   "cell_type": "code",
   "execution_count": 93,
   "id": "b2852d13",
   "metadata": {},
   "outputs": [
    {
     "data": {
      "text/plain": [
       "QuestionText    In which country do you currently reside?\n",
       "Name: Country, dtype: object"
      ]
     },
     "execution_count": 93,
     "metadata": {},
     "output_type": "execute_result"
    }
   ],
   "source": [
    "schema.loc['Country']"
   ]
  },
  {
   "cell_type": "code",
   "execution_count": 94,
   "id": "9a09b2a1",
   "metadata": {},
   "outputs": [
    {
     "data": {
      "text/plain": [
       "Respondent\n",
       "1                United Kingdom\n",
       "2        Bosnia and Herzegovina\n",
       "3                      Thailand\n",
       "4                 United States\n",
       "5                       Ukraine\n",
       "                  ...          \n",
       "88377                    Canada\n",
       "88601                       NaN\n",
       "88802                       NaN\n",
       "88816                       NaN\n",
       "88863                     Spain\n",
       "Name: Country, Length: 88883, dtype: object"
      ]
     },
     "execution_count": 94,
     "metadata": {},
     "output_type": "execute_result"
    }
   ],
   "source": [
    "df['Country']"
   ]
  },
  {
   "cell_type": "code",
   "execution_count": 96,
   "id": "0011555c",
   "metadata": {},
   "outputs": [
    {
     "data": {
      "text/plain": [
       "88883"
      ]
     },
     "execution_count": 96,
     "metadata": {},
     "output_type": "execute_result"
    }
   ],
   "source": [
    "# Returns the count of non-NA values for a series object.\n",
    "df['Hobbyist'].count()"
   ]
  },
  {
   "cell_type": "code",
   "execution_count": 98,
   "id": "eecc869c",
   "metadata": {},
   "outputs": [
    {
     "data": {
      "text/plain": [
       "Hobbyist\n",
       "Yes    71257\n",
       "No     17626\n",
       "Name: count, dtype: int64"
      ]
     },
     "execution_count": 98,
     "metadata": {},
     "output_type": "execute_result"
    }
   ],
   "source": [
    "# Returns a Series containing counts of unique rows(yes or no).\n",
    "df['Hobbyist'].value_counts()"
   ]
  },
  {
   "cell_type": "code",
   "execution_count": 99,
   "id": "d7f31361",
   "metadata": {},
   "outputs": [
    {
     "data": {
      "text/plain": [
       "88751"
      ]
     },
     "execution_count": 99,
     "metadata": {},
     "output_type": "execute_result"
    }
   ],
   "source": [
    "# Returns the count of non-NA values for a series object.\n",
    "df['Country'].count()"
   ]
  },
  {
   "cell_type": "code",
   "execution_count": 101,
   "id": "e86b5d84",
   "metadata": {},
   "outputs": [
    {
     "data": {
      "text/plain": [
       "Country\n",
       "United States        20949\n",
       "India                 9061\n",
       "Germany               5866\n",
       "United Kingdom        5737\n",
       "Canada                3395\n",
       "                     ...  \n",
       "Tonga                    1\n",
       "Timor-Leste              1\n",
       "North Korea              1\n",
       "Brunei Darussalam        1\n",
       "Chad                     1\n",
       "Name: count, Length: 179, dtype: int64"
      ]
     },
     "execution_count": 101,
     "metadata": {},
     "output_type": "execute_result"
    }
   ],
   "source": [
    "df['Country'].value_counts()"
   ]
  },
  {
   "cell_type": "code",
   "execution_count": 102,
   "id": "61808d47",
   "metadata": {},
   "outputs": [
    {
     "data": {
      "text/plain": [
       "SocialMedia\n",
       "WhatsApp                    266\n",
       "Facebook                    232\n",
       "YouTube                     182\n",
       "LinkedIn                     71\n",
       "Twitter                      58\n",
       "Instagram                    41\n",
       "Reddit                       28\n",
       "I don't use social media     23\n",
       "Snapchat                      5\n",
       "Hello                         1\n",
       "VK ВКонта́кте                 1\n",
       "Name: count, dtype: int64"
      ]
     },
     "execution_count": 102,
     "metadata": {},
     "output_type": "execute_result"
    }
   ],
   "source": [
    "# Locate the social media in the country PAKISTAN and count them\n",
    "df.loc[df.Country == 'Pakistan', 'SocialMedia'].value_counts()"
   ]
  },
  {
   "cell_type": "code",
   "execution_count": 105,
   "id": "8167d620",
   "metadata": {},
   "outputs": [
    {
     "data": {
      "text/html": [
       "<div>\n",
       "<style scoped>\n",
       "    .dataframe tbody tr th:only-of-type {\n",
       "        vertical-align: middle;\n",
       "    }\n",
       "\n",
       "    .dataframe tbody tr th {\n",
       "        vertical-align: top;\n",
       "    }\n",
       "\n",
       "    .dataframe thead th {\n",
       "        text-align: right;\n",
       "    }\n",
       "</style>\n",
       "<table border=\"1\" class=\"dataframe\">\n",
       "  <thead>\n",
       "    <tr style=\"text-align: right;\">\n",
       "      <th></th>\n",
       "      <th>MainBranch</th>\n",
       "      <th>Hobbyist</th>\n",
       "      <th>Country</th>\n",
       "      <th>YearsCode</th>\n",
       "      <th>ConvertedComp</th>\n",
       "      <th>LanguageWorkedWith</th>\n",
       "      <th>SocialMedia</th>\n",
       "      <th>Age</th>\n",
       "      <th>Gender</th>\n",
       "    </tr>\n",
       "    <tr>\n",
       "      <th>Respondent</th>\n",
       "      <th></th>\n",
       "      <th></th>\n",
       "      <th></th>\n",
       "      <th></th>\n",
       "      <th></th>\n",
       "      <th></th>\n",
       "      <th></th>\n",
       "      <th></th>\n",
       "      <th></th>\n",
       "    </tr>\n",
       "  </thead>\n",
       "  <tbody>\n",
       "    <tr>\n",
       "      <th>56</th>\n",
       "      <td>I am a developer by profession</td>\n",
       "      <td>No</td>\n",
       "      <td>China</td>\n",
       "      <td>13</td>\n",
       "      <td>51150.0</td>\n",
       "      <td>Bash/Shell/PowerShell;HTML/CSS;Java;SQL</td>\n",
       "      <td>YouTube</td>\n",
       "      <td>33.0</td>\n",
       "      <td>Man</td>\n",
       "    </tr>\n",
       "    <tr>\n",
       "      <th>86</th>\n",
       "      <td>I am not primarily a developer, but I write co...</td>\n",
       "      <td>Yes</td>\n",
       "      <td>China</td>\n",
       "      <td>6</td>\n",
       "      <td>16008.0</td>\n",
       "      <td>Bash/Shell/PowerShell;C#;HTML/CSS;JavaScript;P...</td>\n",
       "      <td>WeChat 微信</td>\n",
       "      <td>26.0</td>\n",
       "      <td>Woman</td>\n",
       "    </tr>\n",
       "    <tr>\n",
       "      <th>204</th>\n",
       "      <td>I am a student who is learning to code</td>\n",
       "      <td>Yes</td>\n",
       "      <td>China</td>\n",
       "      <td>1</td>\n",
       "      <td>NaN</td>\n",
       "      <td>Python;Other(s):</td>\n",
       "      <td>NaN</td>\n",
       "      <td>12.0</td>\n",
       "      <td>Man</td>\n",
       "    </tr>\n",
       "    <tr>\n",
       "      <th>575</th>\n",
       "      <td>I am a developer by profession</td>\n",
       "      <td>Yes</td>\n",
       "      <td>China</td>\n",
       "      <td>7</td>\n",
       "      <td>30240.0</td>\n",
       "      <td>Bash/Shell/PowerShell;Go;Python;SQL</td>\n",
       "      <td>WeChat 微信</td>\n",
       "      <td>28.0</td>\n",
       "      <td>Man</td>\n",
       "    </tr>\n",
       "    <tr>\n",
       "      <th>841</th>\n",
       "      <td>I am a developer by profession</td>\n",
       "      <td>Yes</td>\n",
       "      <td>China</td>\n",
       "      <td>20</td>\n",
       "      <td>84000.0</td>\n",
       "      <td>Go;HTML/CSS;JavaScript;Ruby;SQL;TypeScript</td>\n",
       "      <td>WeChat 微信</td>\n",
       "      <td>35.0</td>\n",
       "      <td>Man</td>\n",
       "    </tr>\n",
       "  </tbody>\n",
       "</table>\n",
       "</div>"
      ],
      "text/plain": [
       "                                                   MainBranch Hobbyist  \\\n",
       "Respondent                                                               \n",
       "56                             I am a developer by profession       No   \n",
       "86          I am not primarily a developer, but I write co...      Yes   \n",
       "204                    I am a student who is learning to code      Yes   \n",
       "575                            I am a developer by profession      Yes   \n",
       "841                            I am a developer by profession      Yes   \n",
       "\n",
       "           Country YearsCode  ConvertedComp  \\\n",
       "Respondent                                    \n",
       "56           China        13        51150.0   \n",
       "86           China         6        16008.0   \n",
       "204          China         1            NaN   \n",
       "575          China         7        30240.0   \n",
       "841          China        20        84000.0   \n",
       "\n",
       "                                           LanguageWorkedWith SocialMedia  \\\n",
       "Respondent                                                                  \n",
       "56                    Bash/Shell/PowerShell;HTML/CSS;Java;SQL     YouTube   \n",
       "86          Bash/Shell/PowerShell;C#;HTML/CSS;JavaScript;P...   WeChat 微信   \n",
       "204                                          Python;Other(s):         NaN   \n",
       "575                       Bash/Shell/PowerShell;Go;Python;SQL   WeChat 微信   \n",
       "841                Go;HTML/CSS;JavaScript;Ruby;SQL;TypeScript   WeChat 微信   \n",
       "\n",
       "             Age Gender  \n",
       "Respondent               \n",
       "56          33.0    Man  \n",
       "86          26.0  Woman  \n",
       "204         12.0    Man  \n",
       "575         28.0    Man  \n",
       "841         35.0    Man  "
      ]
     },
     "execution_count": 105,
     "metadata": {},
     "output_type": "execute_result"
    }
   ],
   "source": [
    "df.loc[df.Country == 'China', :].head()"
   ]
  },
  {
   "cell_type": "code",
   "execution_count": 5,
   "id": "5e485705",
   "metadata": {},
   "outputs": [
    {
     "data": {
      "text/plain": [
       "SocialMedia\n",
       "WeChat 微信                   403\n",
       "YouTube                      53\n",
       "Weibo 新浪微博                   42\n",
       "I don't use social media     27\n",
       "Twitter                      27\n",
       "Reddit                       12\n",
       "LinkedIn                     11\n",
       "Facebook                      8\n",
       "Instagram                     7\n",
       "Youku Tudou 优酷                7\n",
       "WhatsApp                      3\n",
       "VK ВКонта́кте                 1\n",
       "Name: count, dtype: int64"
      ]
     },
     "execution_count": 5,
     "metadata": {},
     "output_type": "execute_result"
    }
   ],
   "source": [
    "df.loc[df.Country == \"China\", \"SocialMedia\"].value_counts()"
   ]
  },
  {
   "cell_type": "code",
   "execution_count": 9,
   "id": "53588ce6",
   "metadata": {},
   "outputs": [
    {
     "data": {
      "text/html": [
       "<div>\n",
       "<style scoped>\n",
       "    .dataframe tbody tr th:only-of-type {\n",
       "        vertical-align: middle;\n",
       "    }\n",
       "\n",
       "    .dataframe tbody tr th {\n",
       "        vertical-align: top;\n",
       "    }\n",
       "\n",
       "    .dataframe thead th {\n",
       "        text-align: right;\n",
       "    }\n",
       "</style>\n",
       "<table border=\"1\" class=\"dataframe\">\n",
       "  <thead>\n",
       "    <tr style=\"text-align: right;\">\n",
       "      <th></th>\n",
       "      <th>MainBranch</th>\n",
       "      <th>Hobbyist</th>\n",
       "      <th>Country</th>\n",
       "      <th>YearsCode</th>\n",
       "      <th>ConvertedComp</th>\n",
       "      <th>LanguageWorkedWith</th>\n",
       "      <th>SocialMedia</th>\n",
       "      <th>Age</th>\n",
       "      <th>Gender</th>\n",
       "    </tr>\n",
       "    <tr>\n",
       "      <th>Respondent</th>\n",
       "      <th></th>\n",
       "      <th></th>\n",
       "      <th></th>\n",
       "      <th></th>\n",
       "      <th></th>\n",
       "      <th></th>\n",
       "      <th></th>\n",
       "      <th></th>\n",
       "      <th></th>\n",
       "    </tr>\n",
       "  </thead>\n",
       "  <tbody>\n",
       "    <tr>\n",
       "      <th>205</th>\n",
       "      <td>I am not primarily a developer, but I write co...</td>\n",
       "      <td>Yes</td>\n",
       "      <td>Nigeria</td>\n",
       "      <td>7</td>\n",
       "      <td>2664.0</td>\n",
       "      <td>C#;HTML/CSS;JavaScript;PHP</td>\n",
       "      <td>YouTube</td>\n",
       "      <td>24.0</td>\n",
       "      <td>Man</td>\n",
       "    </tr>\n",
       "    <tr>\n",
       "      <th>348</th>\n",
       "      <td>I am a developer by profession</td>\n",
       "      <td>Yes</td>\n",
       "      <td>Nigeria</td>\n",
       "      <td>2</td>\n",
       "      <td>NaN</td>\n",
       "      <td>HTML/CSS;PHP</td>\n",
       "      <td>LinkedIn</td>\n",
       "      <td>39.0</td>\n",
       "      <td>Man</td>\n",
       "    </tr>\n",
       "    <tr>\n",
       "      <th>365</th>\n",
       "      <td>I code primarily as a hobby</td>\n",
       "      <td>Yes</td>\n",
       "      <td>Nigeria</td>\n",
       "      <td>5</td>\n",
       "      <td>NaN</td>\n",
       "      <td>Java;SQL</td>\n",
       "      <td>WhatsApp</td>\n",
       "      <td>NaN</td>\n",
       "      <td>Man</td>\n",
       "    </tr>\n",
       "    <tr>\n",
       "      <th>688</th>\n",
       "      <td>I am a developer by profession</td>\n",
       "      <td>Yes</td>\n",
       "      <td>Nigeria</td>\n",
       "      <td>2</td>\n",
       "      <td>1668.0</td>\n",
       "      <td>HTML/CSS;JavaScript;PHP;Python;SQL</td>\n",
       "      <td>Instagram</td>\n",
       "      <td>19.0</td>\n",
       "      <td>Man</td>\n",
       "    </tr>\n",
       "    <tr>\n",
       "      <th>885</th>\n",
       "      <td>I am a developer by profession</td>\n",
       "      <td>Yes</td>\n",
       "      <td>Nigeria</td>\n",
       "      <td>4</td>\n",
       "      <td>2770.0</td>\n",
       "      <td>Java;JavaScript;PHP;Python</td>\n",
       "      <td>Facebook</td>\n",
       "      <td>23.0</td>\n",
       "      <td>Man</td>\n",
       "    </tr>\n",
       "    <tr>\n",
       "      <th>...</th>\n",
       "      <td>...</td>\n",
       "      <td>...</td>\n",
       "      <td>...</td>\n",
       "      <td>...</td>\n",
       "      <td>...</td>\n",
       "      <td>...</td>\n",
       "      <td>...</td>\n",
       "      <td>...</td>\n",
       "      <td>...</td>\n",
       "    </tr>\n",
       "    <tr>\n",
       "      <th>88812</th>\n",
       "      <td>I am a developer by profession</td>\n",
       "      <td>Yes</td>\n",
       "      <td>Nigeria</td>\n",
       "      <td>8</td>\n",
       "      <td>16620.0</td>\n",
       "      <td>HTML/CSS;JavaScript;PHP;Python</td>\n",
       "      <td>WhatsApp</td>\n",
       "      <td>25.0</td>\n",
       "      <td>Man</td>\n",
       "    </tr>\n",
       "    <tr>\n",
       "      <th>88821</th>\n",
       "      <td>I am a student who is learning to code</td>\n",
       "      <td>No</td>\n",
       "      <td>Nigeria</td>\n",
       "      <td>Less than 1 year</td>\n",
       "      <td>NaN</td>\n",
       "      <td>NaN</td>\n",
       "      <td>Facebook</td>\n",
       "      <td>20.0</td>\n",
       "      <td>Woman</td>\n",
       "    </tr>\n",
       "    <tr>\n",
       "      <th>76960</th>\n",
       "      <td>NaN</td>\n",
       "      <td>No</td>\n",
       "      <td>Nigeria</td>\n",
       "      <td>Less than 1 year</td>\n",
       "      <td>NaN</td>\n",
       "      <td>C</td>\n",
       "      <td>NaN</td>\n",
       "      <td>NaN</td>\n",
       "      <td>NaN</td>\n",
       "    </tr>\n",
       "    <tr>\n",
       "      <th>79616</th>\n",
       "      <td>NaN</td>\n",
       "      <td>No</td>\n",
       "      <td>Nigeria</td>\n",
       "      <td>NaN</td>\n",
       "      <td>NaN</td>\n",
       "      <td>NaN</td>\n",
       "      <td>Facebook</td>\n",
       "      <td>NaN</td>\n",
       "      <td>Man</td>\n",
       "    </tr>\n",
       "    <tr>\n",
       "      <th>86806</th>\n",
       "      <td>NaN</td>\n",
       "      <td>Yes</td>\n",
       "      <td>Nigeria</td>\n",
       "      <td>5</td>\n",
       "      <td>NaN</td>\n",
       "      <td>NaN</td>\n",
       "      <td>WhatsApp</td>\n",
       "      <td>19.0</td>\n",
       "      <td>Man</td>\n",
       "    </tr>\n",
       "  </tbody>\n",
       "</table>\n",
       "<p>522 rows × 9 columns</p>\n",
       "</div>"
      ],
      "text/plain": [
       "                                                   MainBranch Hobbyist  \\\n",
       "Respondent                                                               \n",
       "205         I am not primarily a developer, but I write co...      Yes   \n",
       "348                            I am a developer by profession      Yes   \n",
       "365                               I code primarily as a hobby      Yes   \n",
       "688                            I am a developer by profession      Yes   \n",
       "885                            I am a developer by profession      Yes   \n",
       "...                                                       ...      ...   \n",
       "88812                          I am a developer by profession      Yes   \n",
       "88821                  I am a student who is learning to code       No   \n",
       "76960                                                     NaN       No   \n",
       "79616                                                     NaN       No   \n",
       "86806                                                     NaN      Yes   \n",
       "\n",
       "            Country         YearsCode  ConvertedComp  \\\n",
       "Respondent                                             \n",
       "205         Nigeria                 7         2664.0   \n",
       "348         Nigeria                 2            NaN   \n",
       "365         Nigeria                 5            NaN   \n",
       "688         Nigeria                 2         1668.0   \n",
       "885         Nigeria                 4         2770.0   \n",
       "...             ...               ...            ...   \n",
       "88812       Nigeria                 8        16620.0   \n",
       "88821       Nigeria  Less than 1 year            NaN   \n",
       "76960       Nigeria  Less than 1 year            NaN   \n",
       "79616       Nigeria               NaN            NaN   \n",
       "86806       Nigeria                 5            NaN   \n",
       "\n",
       "                            LanguageWorkedWith SocialMedia   Age Gender  \n",
       "Respondent                                                               \n",
       "205                 C#;HTML/CSS;JavaScript;PHP     YouTube  24.0    Man  \n",
       "348                               HTML/CSS;PHP    LinkedIn  39.0    Man  \n",
       "365                                   Java;SQL    WhatsApp   NaN    Man  \n",
       "688         HTML/CSS;JavaScript;PHP;Python;SQL   Instagram  19.0    Man  \n",
       "885                 Java;JavaScript;PHP;Python    Facebook  23.0    Man  \n",
       "...                                        ...         ...   ...    ...  \n",
       "88812           HTML/CSS;JavaScript;PHP;Python    WhatsApp  25.0    Man  \n",
       "88821                                      NaN    Facebook  20.0  Woman  \n",
       "76960                                        C         NaN   NaN    NaN  \n",
       "79616                                      NaN    Facebook   NaN    Man  \n",
       "86806                                      NaN    WhatsApp  19.0    Man  \n",
       "\n",
       "[522 rows x 9 columns]"
      ]
     },
     "execution_count": 9,
     "metadata": {},
     "output_type": "execute_result"
    }
   ],
   "source": [
    "df.groupby('Country').get_group('Nigeria')"
   ]
  },
  {
   "cell_type": "code",
   "execution_count": 11,
   "id": "073147ff",
   "metadata": {},
   "outputs": [
    {
     "data": {
      "text/plain": [
       "Respondent\n",
       "205        YouTube\n",
       "348       LinkedIn\n",
       "365       WhatsApp\n",
       "688      Instagram\n",
       "885       Facebook\n",
       "           ...    \n",
       "88812     WhatsApp\n",
       "88821     Facebook\n",
       "76960          NaN\n",
       "79616     Facebook\n",
       "86806     WhatsApp\n",
       "Name: SocialMedia, Length: 522, dtype: object"
      ]
     },
     "execution_count": 11,
     "metadata": {},
     "output_type": "execute_result"
    }
   ],
   "source": [
    "df.groupby('Country').get_group('Nigeria').loc[:, 'SocialMedia']"
   ]
  },
  {
   "cell_type": "code",
   "execution_count": 15,
   "id": "90de35fd",
   "metadata": {},
   "outputs": [
    {
     "data": {
      "text/plain": [
       "LanguageWorkedWith\n",
       "HTML/CSS;JavaScript                                                28\n",
       "HTML/CSS;JavaScript;PHP;SQL                                        24\n",
       "HTML/CSS;JavaScript;PHP                                            16\n",
       "Java                                                               13\n",
       "HTML/CSS;Java;JavaScript;PHP;SQL                                   10\n",
       "                                                                   ..\n",
       "Dart;Elixir;Java;PHP;Python;Scala                                   1\n",
       "C;C++;C#;Java;JavaScript;PHP;SQL;TypeScript;VBA                     1\n",
       "Assembly;Bash/Shell/PowerShell;C;HTML/CSS;JavaScript;TypeScript     1\n",
       "C;HTML/CSS;JavaScript;TypeScript                                    1\n",
       "C#;Elixir;HTML/CSS;JavaScript;PHP;Python;SQL                        1\n",
       "Name: count, Length: 277, dtype: int64"
      ]
     },
     "execution_count": 15,
     "metadata": {},
     "output_type": "execute_result"
    }
   ],
   "source": [
    "df.groupby('Country').get_group('Nigeria').loc[:, 'LanguageWorkedWith'].value_counts()"
   ]
  },
  {
   "cell_type": "code",
   "execution_count": null,
   "id": "9c793eaf",
   "metadata": {},
   "outputs": [],
   "source": []
  },
  {
   "cell_type": "code",
   "execution_count": 18,
   "id": "d2cec00b",
   "metadata": {},
   "outputs": [
    {
     "data": {
      "text/plain": [
       "Country              SocialMedia             \n",
       "Afghanistan          Facebook                     15\n",
       "                     YouTube                       9\n",
       "                     I don't use social media      6\n",
       "                     WhatsApp                      4\n",
       "                     Instagram                     1\n",
       "                     LinkedIn                      1\n",
       "                     Twitter                       1\n",
       "Albania              WhatsApp                     18\n",
       "                     Facebook                     16\n",
       "                     Instagram                    13\n",
       "                     YouTube                      10\n",
       "                     Twitter                       8\n",
       "                     LinkedIn                      7\n",
       "                     Reddit                        6\n",
       "                     I don't use social media      4\n",
       "                     Snapchat                      1\n",
       "                     WeChat 微信                     1\n",
       "Algeria              YouTube                      42\n",
       "                     Facebook                     41\n",
       "                     Twitter                      14\n",
       "                     LinkedIn                      9\n",
       "                     Instagram                     7\n",
       "                     I don't use social media      7\n",
       "                     Reddit                        2\n",
       "                     WhatsApp                      2\n",
       "Andorra              Facebook                      2\n",
       "                     I don't use social media      2\n",
       "                     YouTube                       1\n",
       "                     Reddit                        1\n",
       "                     Snapchat                      1\n",
       "Angola               Twitter                       2\n",
       "                     YouTube                       1\n",
       "                     Facebook                      1\n",
       "Antigua and Barbuda  YouTube                       2\n",
       "                     Facebook                      1\n",
       "                     Instagram                     1\n",
       "                     Twitter                       1\n",
       "                     VK ВКонта́кте                 1\n",
       "Argentina            WhatsApp                    202\n",
       "                     Twitter                      80\n",
       "                     YouTube                      62\n",
       "                     Instagram                    53\n",
       "                     Reddit                       50\n",
       "                     Facebook                     45\n",
       "                     I don't use social media     22\n",
       "                     LinkedIn                     16\n",
       "Armenia              Facebook                     38\n",
       "                     YouTube                      23\n",
       "                     LinkedIn                      5\n",
       "                     Instagram                     3\n",
       "Name: count, dtype: int64"
      ]
     },
     "execution_count": 18,
     "metadata": {},
     "output_type": "execute_result"
    }
   ],
   "source": [
    "# Get the group of countries, get their social media\n",
    "df.groupby('Country')['SocialMedia'].value_counts().head(50)"
   ]
  },
  {
   "cell_type": "code",
   "execution_count": 19,
   "id": "8b302088",
   "metadata": {},
   "outputs": [
    {
     "data": {
      "text/html": [
       "<div>\n",
       "<style scoped>\n",
       "    .dataframe tbody tr th:only-of-type {\n",
       "        vertical-align: middle;\n",
       "    }\n",
       "\n",
       "    .dataframe tbody tr th {\n",
       "        vertical-align: top;\n",
       "    }\n",
       "\n",
       "    .dataframe thead th {\n",
       "        text-align: right;\n",
       "    }\n",
       "</style>\n",
       "<table border=\"1\" class=\"dataframe\">\n",
       "  <thead>\n",
       "    <tr style=\"text-align: right;\">\n",
       "      <th></th>\n",
       "      <th>MainBranch</th>\n",
       "      <th>Hobbyist</th>\n",
       "      <th>Country</th>\n",
       "      <th>YearsCode</th>\n",
       "      <th>ConvertedComp</th>\n",
       "      <th>LanguageWorkedWith</th>\n",
       "      <th>SocialMedia</th>\n",
       "      <th>Age</th>\n",
       "      <th>Gender</th>\n",
       "    </tr>\n",
       "    <tr>\n",
       "      <th>Respondent</th>\n",
       "      <th></th>\n",
       "      <th></th>\n",
       "      <th></th>\n",
       "      <th></th>\n",
       "      <th></th>\n",
       "      <th></th>\n",
       "      <th></th>\n",
       "      <th></th>\n",
       "      <th></th>\n",
       "    </tr>\n",
       "  </thead>\n",
       "  <tbody>\n",
       "    <tr>\n",
       "      <th>1</th>\n",
       "      <td>I am a student who is learning to code</td>\n",
       "      <td>Yes</td>\n",
       "      <td>United Kingdom</td>\n",
       "      <td>4</td>\n",
       "      <td>NaN</td>\n",
       "      <td>HTML/CSS;Java;JavaScript;Python</td>\n",
       "      <td>Twitter</td>\n",
       "      <td>14.0</td>\n",
       "      <td>Man</td>\n",
       "    </tr>\n",
       "    <tr>\n",
       "      <th>2</th>\n",
       "      <td>I am a student who is learning to code</td>\n",
       "      <td>No</td>\n",
       "      <td>Bosnia and Herzegovina</td>\n",
       "      <td>NaN</td>\n",
       "      <td>NaN</td>\n",
       "      <td>C++;HTML/CSS;Python</td>\n",
       "      <td>Instagram</td>\n",
       "      <td>19.0</td>\n",
       "      <td>Man</td>\n",
       "    </tr>\n",
       "    <tr>\n",
       "      <th>3</th>\n",
       "      <td>I am not primarily a developer, but I write co...</td>\n",
       "      <td>Yes</td>\n",
       "      <td>Thailand</td>\n",
       "      <td>3</td>\n",
       "      <td>8820.0</td>\n",
       "      <td>HTML/CSS</td>\n",
       "      <td>Reddit</td>\n",
       "      <td>28.0</td>\n",
       "      <td>Man</td>\n",
       "    </tr>\n",
       "    <tr>\n",
       "      <th>4</th>\n",
       "      <td>I am a developer by profession</td>\n",
       "      <td>No</td>\n",
       "      <td>United States</td>\n",
       "      <td>3</td>\n",
       "      <td>61000.0</td>\n",
       "      <td>C;C++;C#;Python;SQL</td>\n",
       "      <td>Reddit</td>\n",
       "      <td>22.0</td>\n",
       "      <td>Man</td>\n",
       "    </tr>\n",
       "    <tr>\n",
       "      <th>5</th>\n",
       "      <td>I am a developer by profession</td>\n",
       "      <td>Yes</td>\n",
       "      <td>Ukraine</td>\n",
       "      <td>16</td>\n",
       "      <td>NaN</td>\n",
       "      <td>C++;HTML/CSS;Java;JavaScript;Python;SQL;VBA</td>\n",
       "      <td>Facebook</td>\n",
       "      <td>30.0</td>\n",
       "      <td>Man</td>\n",
       "    </tr>\n",
       "  </tbody>\n",
       "</table>\n",
       "</div>"
      ],
      "text/plain": [
       "                                                   MainBranch Hobbyist  \\\n",
       "Respondent                                                               \n",
       "1                      I am a student who is learning to code      Yes   \n",
       "2                      I am a student who is learning to code       No   \n",
       "3           I am not primarily a developer, but I write co...      Yes   \n",
       "4                              I am a developer by profession       No   \n",
       "5                              I am a developer by profession      Yes   \n",
       "\n",
       "                           Country YearsCode  ConvertedComp  \\\n",
       "Respondent                                                    \n",
       "1                   United Kingdom         4            NaN   \n",
       "2           Bosnia and Herzegovina       NaN            NaN   \n",
       "3                         Thailand         3         8820.0   \n",
       "4                    United States         3        61000.0   \n",
       "5                          Ukraine        16            NaN   \n",
       "\n",
       "                                     LanguageWorkedWith SocialMedia   Age  \\\n",
       "Respondent                                                                  \n",
       "1                       HTML/CSS;Java;JavaScript;Python     Twitter  14.0   \n",
       "2                                   C++;HTML/CSS;Python   Instagram  19.0   \n",
       "3                                              HTML/CSS      Reddit  28.0   \n",
       "4                                   C;C++;C#;Python;SQL      Reddit  22.0   \n",
       "5           C++;HTML/CSS;Java;JavaScript;Python;SQL;VBA    Facebook  30.0   \n",
       "\n",
       "           Gender  \n",
       "Respondent         \n",
       "1             Man  \n",
       "2             Man  \n",
       "3             Man  \n",
       "4             Man  \n",
       "5             Man  "
      ]
     },
     "execution_count": 19,
     "metadata": {},
     "output_type": "execute_result"
    }
   ],
   "source": [
    "df.head()"
   ]
  },
  {
   "cell_type": "code",
   "execution_count": 20,
   "id": "1617fd0e",
   "metadata": {},
   "outputs": [
    {
     "data": {
      "text/plain": [
       "Respondent\n",
       "1                United Kingdom\n",
       "2        Bosnia and Herzegovina\n",
       "3                      Thailand\n",
       "4                 United States\n",
       "5                       Ukraine\n",
       "                  ...          \n",
       "88377                    Canada\n",
       "88601                       NaN\n",
       "88802                       NaN\n",
       "88816                       NaN\n",
       "88863                     Spain\n",
       "Name: Country, Length: 88883, dtype: object"
      ]
     },
     "execution_count": 20,
     "metadata": {},
     "output_type": "execute_result"
    }
   ],
   "source": [
    "# Give me all the rows but only countries\n",
    "df.loc[:, \"Country\"]"
   ]
  },
  {
   "cell_type": "code",
   "execution_count": 23,
   "id": "f2fdd4c3",
   "metadata": {},
   "outputs": [
    {
     "data": {
      "text/plain": [
       "Country\n",
       "United States        20949\n",
       "India                 9061\n",
       "Germany               5866\n",
       "United Kingdom        5737\n",
       "Canada                3395\n",
       "                     ...  \n",
       "Tonga                    1\n",
       "Timor-Leste              1\n",
       "North Korea              1\n",
       "Brunei Darussalam        1\n",
       "Chad                     1\n",
       "Name: Total, Length: 179, dtype: int64"
      ]
     },
     "execution_count": 23,
     "metadata": {},
     "output_type": "execute_result"
    }
   ],
   "source": [
    "tc = df[\"Country\"].value_counts()\n",
    "tc.name = 'Total'\n",
    "tc"
   ]
  },
  {
   "cell_type": "code",
   "execution_count": 26,
   "id": "b9b88038",
   "metadata": {},
   "outputs": [
    {
     "data": {
      "text/plain": [
       "Country                                                                   \n",
       "Afghanistan                           Afghanistan                              44\n",
       "Albania                               Albania                                  86\n",
       "Algeria                               Algeria                                 134\n",
       "Andorra                               Andorra                                   7\n",
       "Angola                                Angola                                    5\n",
       "                                                                             ... \n",
       "Venezuela, Bolivarian Republic of...  Venezuela, Bolivarian Republic of...     88\n",
       "Viet Nam                              Viet Nam                                231\n",
       "Yemen                                 Yemen                                    19\n",
       "Zambia                                Zambia                                   12\n",
       "Zimbabwe                              Zimbabwe                                 39\n",
       "Name: Country, Length: 179, dtype: int64"
      ]
     },
     "execution_count": 26,
     "metadata": {},
     "output_type": "execute_result"
    }
   ],
   "source": [
    "group = df.groupby('Country')['Country'].apply(lambda x: x.value_counts())\n",
    "group"
   ]
  },
  {
   "cell_type": "code",
   "execution_count": 31,
   "id": "a4efb499",
   "metadata": {},
   "outputs": [
    {
     "data": {
      "text/plain": [
       "Country\n",
       "Afghanistan                              8\n",
       "Albania                                 23\n",
       "Algeria                                 40\n",
       "Andorra                                  0\n",
       "Angola                                   2\n",
       "                                        ..\n",
       "Venezuela, Bolivarian Republic of...    28\n",
       "Viet Nam                                78\n",
       "Yemen                                    3\n",
       "Zambia                                   4\n",
       "Zimbabwe                                14\n",
       "Name: LanguageWorkedWith, Length: 179, dtype: int64"
      ]
     },
     "execution_count": 31,
     "metadata": {},
     "output_type": "execute_result"
    }
   ],
   "source": [
    "pp = df.groupby('Country')['LanguageWorkedWith'].apply(lambda x: x.str.contains('Python').sum())\n",
    "pp"
   ]
  },
  {
   "cell_type": "code",
   "execution_count": 32,
   "id": "fb51a989",
   "metadata": {},
   "outputs": [],
   "source": [
    "pp.name = \"Knows Python\""
   ]
  },
  {
   "cell_type": "code",
   "execution_count": null,
   "id": "36db9527",
   "metadata": {},
   "outputs": [],
   "source": []
  },
  {
   "cell_type": "code",
   "execution_count": 33,
   "id": "59e2bbdc",
   "metadata": {},
   "outputs": [
    {
     "data": {
      "text/html": [
       "<div>\n",
       "<style scoped>\n",
       "    .dataframe tbody tr th:only-of-type {\n",
       "        vertical-align: middle;\n",
       "    }\n",
       "\n",
       "    .dataframe tbody tr th {\n",
       "        vertical-align: top;\n",
       "    }\n",
       "\n",
       "    .dataframe thead th {\n",
       "        text-align: right;\n",
       "    }\n",
       "</style>\n",
       "<table border=\"1\" class=\"dataframe\">\n",
       "  <thead>\n",
       "    <tr style=\"text-align: right;\">\n",
       "      <th></th>\n",
       "      <th>Total</th>\n",
       "      <th>Knows Python</th>\n",
       "    </tr>\n",
       "    <tr>\n",
       "      <th>Country</th>\n",
       "      <th></th>\n",
       "      <th></th>\n",
       "    </tr>\n",
       "  </thead>\n",
       "  <tbody>\n",
       "    <tr>\n",
       "      <th>United States</th>\n",
       "      <td>20949</td>\n",
       "      <td>10083</td>\n",
       "    </tr>\n",
       "    <tr>\n",
       "      <th>India</th>\n",
       "      <td>9061</td>\n",
       "      <td>3105</td>\n",
       "    </tr>\n",
       "    <tr>\n",
       "      <th>Germany</th>\n",
       "      <td>5866</td>\n",
       "      <td>2451</td>\n",
       "    </tr>\n",
       "    <tr>\n",
       "      <th>United Kingdom</th>\n",
       "      <td>5737</td>\n",
       "      <td>2384</td>\n",
       "    </tr>\n",
       "    <tr>\n",
       "      <th>Canada</th>\n",
       "      <td>3395</td>\n",
       "      <td>1558</td>\n",
       "    </tr>\n",
       "    <tr>\n",
       "      <th>...</th>\n",
       "      <td>...</td>\n",
       "      <td>...</td>\n",
       "    </tr>\n",
       "    <tr>\n",
       "      <th>Tonga</th>\n",
       "      <td>1</td>\n",
       "      <td>0</td>\n",
       "    </tr>\n",
       "    <tr>\n",
       "      <th>Timor-Leste</th>\n",
       "      <td>1</td>\n",
       "      <td>1</td>\n",
       "    </tr>\n",
       "    <tr>\n",
       "      <th>North Korea</th>\n",
       "      <td>1</td>\n",
       "      <td>0</td>\n",
       "    </tr>\n",
       "    <tr>\n",
       "      <th>Brunei Darussalam</th>\n",
       "      <td>1</td>\n",
       "      <td>0</td>\n",
       "    </tr>\n",
       "    <tr>\n",
       "      <th>Chad</th>\n",
       "      <td>1</td>\n",
       "      <td>0</td>\n",
       "    </tr>\n",
       "  </tbody>\n",
       "</table>\n",
       "<p>179 rows × 2 columns</p>\n",
       "</div>"
      ],
      "text/plain": [
       "                   Total  Knows Python\n",
       "Country                               \n",
       "United States      20949         10083\n",
       "India               9061          3105\n",
       "Germany             5866          2451\n",
       "United Kingdom      5737          2384\n",
       "Canada              3395          1558\n",
       "...                  ...           ...\n",
       "Tonga                  1             0\n",
       "Timor-Leste            1             1\n",
       "North Korea            1             0\n",
       "Brunei Darussalam      1             0\n",
       "Chad                   1             0\n",
       "\n",
       "[179 rows x 2 columns]"
      ]
     },
     "execution_count": 33,
     "metadata": {},
     "output_type": "execute_result"
    }
   ],
   "source": [
    "# concatenating columns total(tc) and 'Knows python' (pp)\n",
    "new_df = pd.concat([tc, pp], axis = 1)\n",
    "new_df"
   ]
  },
  {
   "cell_type": "code",
   "execution_count": 34,
   "id": "10f11fe9",
   "metadata": {},
   "outputs": [
    {
     "data": {
      "text/plain": [
       "Total           522\n",
       "Knows Python    152\n",
       "Name: Nigeria, dtype: int64"
      ]
     },
     "execution_count": 34,
     "metadata": {},
     "output_type": "execute_result"
    }
   ],
   "source": [
    "new_df.loc['Nigeria']"
   ]
  },
  {
   "cell_type": "code",
   "execution_count": 35,
   "id": "66f4ee9a",
   "metadata": {},
   "outputs": [
    {
     "data": {
      "text/plain": [
       "Total           664\n",
       "Knows Python    297\n",
       "Name: China, dtype: int64"
      ]
     },
     "execution_count": 35,
     "metadata": {},
     "output_type": "execute_result"
    }
   ],
   "source": [
    "new_df.loc['China']"
   ]
  },
  {
   "cell_type": "code",
   "execution_count": 36,
   "id": "c8f3cd9b",
   "metadata": {},
   "outputs": [
    {
     "data": {
      "text/plain": [
       "Total           20949\n",
       "Knows Python    10083\n",
       "Name: United States, dtype: int64"
      ]
     },
     "execution_count": 36,
     "metadata": {},
     "output_type": "execute_result"
    }
   ],
   "source": [
    "new_df.loc['United States']"
   ]
  },
  {
   "cell_type": "code",
   "execution_count": null,
   "id": "509d5922",
   "metadata": {},
   "outputs": [],
   "source": []
  },
  {
   "cell_type": "code",
   "execution_count": 40,
   "id": "7daf6eef",
   "metadata": {},
   "outputs": [
    {
     "data": {
      "text/html": [
       "<div>\n",
       "<style scoped>\n",
       "    .dataframe tbody tr th:only-of-type {\n",
       "        vertical-align: middle;\n",
       "    }\n",
       "\n",
       "    .dataframe tbody tr th {\n",
       "        vertical-align: top;\n",
       "    }\n",
       "\n",
       "    .dataframe thead th {\n",
       "        text-align: right;\n",
       "    }\n",
       "</style>\n",
       "<table border=\"1\" class=\"dataframe\">\n",
       "  <thead>\n",
       "    <tr style=\"text-align: right;\">\n",
       "      <th></th>\n",
       "      <th>Total</th>\n",
       "      <th>Knows Python</th>\n",
       "      <th>Percentage</th>\n",
       "    </tr>\n",
       "    <tr>\n",
       "      <th>Country</th>\n",
       "      <th></th>\n",
       "      <th></th>\n",
       "      <th></th>\n",
       "    </tr>\n",
       "  </thead>\n",
       "  <tbody>\n",
       "    <tr>\n",
       "      <th>United States</th>\n",
       "      <td>20949</td>\n",
       "      <td>10083</td>\n",
       "      <td>48.131176</td>\n",
       "    </tr>\n",
       "    <tr>\n",
       "      <th>India</th>\n",
       "      <td>9061</td>\n",
       "      <td>3105</td>\n",
       "      <td>34.267741</td>\n",
       "    </tr>\n",
       "    <tr>\n",
       "      <th>Germany</th>\n",
       "      <td>5866</td>\n",
       "      <td>2451</td>\n",
       "      <td>41.783157</td>\n",
       "    </tr>\n",
       "    <tr>\n",
       "      <th>United Kingdom</th>\n",
       "      <td>5737</td>\n",
       "      <td>2384</td>\n",
       "      <td>41.554820</td>\n",
       "    </tr>\n",
       "    <tr>\n",
       "      <th>Canada</th>\n",
       "      <td>3395</td>\n",
       "      <td>1558</td>\n",
       "      <td>45.891016</td>\n",
       "    </tr>\n",
       "    <tr>\n",
       "      <th>...</th>\n",
       "      <td>...</td>\n",
       "      <td>...</td>\n",
       "      <td>...</td>\n",
       "    </tr>\n",
       "    <tr>\n",
       "      <th>Tonga</th>\n",
       "      <td>1</td>\n",
       "      <td>0</td>\n",
       "      <td>0.000000</td>\n",
       "    </tr>\n",
       "    <tr>\n",
       "      <th>Timor-Leste</th>\n",
       "      <td>1</td>\n",
       "      <td>1</td>\n",
       "      <td>100.000000</td>\n",
       "    </tr>\n",
       "    <tr>\n",
       "      <th>North Korea</th>\n",
       "      <td>1</td>\n",
       "      <td>0</td>\n",
       "      <td>0.000000</td>\n",
       "    </tr>\n",
       "    <tr>\n",
       "      <th>Brunei Darussalam</th>\n",
       "      <td>1</td>\n",
       "      <td>0</td>\n",
       "      <td>0.000000</td>\n",
       "    </tr>\n",
       "    <tr>\n",
       "      <th>Chad</th>\n",
       "      <td>1</td>\n",
       "      <td>0</td>\n",
       "      <td>0.000000</td>\n",
       "    </tr>\n",
       "  </tbody>\n",
       "</table>\n",
       "<p>179 rows × 3 columns</p>\n",
       "</div>"
      ],
      "text/plain": [
       "                   Total  Knows Python  Percentage\n",
       "Country                                           \n",
       "United States      20949         10083   48.131176\n",
       "India               9061          3105   34.267741\n",
       "Germany             5866          2451   41.783157\n",
       "United Kingdom      5737          2384   41.554820\n",
       "Canada              3395          1558   45.891016\n",
       "...                  ...           ...         ...\n",
       "Tonga                  1             0    0.000000\n",
       "Timor-Leste            1             1  100.000000\n",
       "North Korea            1             0    0.000000\n",
       "Brunei Darussalam      1             0    0.000000\n",
       "Chad                   1             0    0.000000\n",
       "\n",
       "[179 rows x 3 columns]"
      ]
     },
     "execution_count": 40,
     "metadata": {},
     "output_type": "execute_result"
    }
   ],
   "source": [
    "# Percentage of people in the country that knows python\n",
    "new_df['Percentage'] = (new_df['Knows Python'] / new_df['Total']) * 100\n",
    "new_df"
   ]
  },
  {
   "cell_type": "code",
   "execution_count": 41,
   "id": "54cd1572",
   "metadata": {},
   "outputs": [
    {
     "data": {
      "text/plain": [
       "Total           522.000000\n",
       "Knows Python    152.000000\n",
       "Percentage       29.118774\n",
       "Name: Nigeria, dtype: float64"
      ]
     },
     "execution_count": 41,
     "metadata": {},
     "output_type": "execute_result"
    }
   ],
   "source": [
    "new_df.loc['Nigeria']"
   ]
  },
  {
   "cell_type": "code",
   "execution_count": null,
   "id": "236913f4",
   "metadata": {},
   "outputs": [],
   "source": []
  }
 ],
 "metadata": {
  "kernelspec": {
   "display_name": "Python 3 (ipykernel)",
   "language": "python",
   "name": "python3"
  },
  "language_info": {
   "codemirror_mode": {
    "name": "ipython",
    "version": 3
   },
   "file_extension": ".py",
   "mimetype": "text/x-python",
   "name": "python",
   "nbconvert_exporter": "python",
   "pygments_lexer": "ipython3",
   "version": "3.11.5"
  }
 },
 "nbformat": 4,
 "nbformat_minor": 5
}
